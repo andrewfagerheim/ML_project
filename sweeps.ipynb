{
 "cells": [
  {
   "cell_type": "markdown",
   "id": "9ef85bf0-7449-41be-8ca1-eab76e44a7b6",
   "metadata": {},
   "source": [
    "# Sweep attempt"
   ]
  },
  {
   "cell_type": "code",
   "execution_count": 1,
   "id": "473fbf39-4c77-4273-a069-d6ae97bdeb9e",
   "metadata": {
    "tags": []
   },
   "outputs": [
    {
     "name": "stdout",
     "output_type": "stream",
     "text": [
      "Collecting wandb\n",
      "  Obtaining dependency information for wandb from https://files.pythonhosted.org/packages/35/d3/6bfe29e4ba1eb2400d478caf8e3af9a1c366390390069cda59a7c6bf6063/wandb-0.16.1-py3-none-any.whl.metadata\n",
      "  Using cached wandb-0.16.1-py3-none-any.whl.metadata (9.8 kB)\n",
      "Requirement already satisfied: Click!=8.0.0,>=7.1 in /srv/conda/envs/notebook/lib/python3.10/site-packages (from wandb) (8.1.7)\n",
      "Requirement already satisfied: GitPython!=3.1.29,>=1.0.0 in /srv/conda/envs/notebook/lib/python3.10/site-packages (from wandb) (3.1.32)\n",
      "Requirement already satisfied: requests<3,>=2.0.0 in /srv/conda/envs/notebook/lib/python3.10/site-packages (from wandb) (2.31.0)\n",
      "Requirement already satisfied: psutil>=5.0.0 in /srv/conda/envs/notebook/lib/python3.10/site-packages (from wandb) (5.9.5)\n",
      "Collecting sentry-sdk>=1.0.0 (from wandb)\n",
      "  Obtaining dependency information for sentry-sdk>=1.0.0 from https://files.pythonhosted.org/packages/ee/61/72bf9b0326f77486403f468b0466a3eeb6f7613ba96b714f6974fe6b9c36/sentry_sdk-1.38.0-py2.py3-none-any.whl.metadata\n",
      "  Using cached sentry_sdk-1.38.0-py2.py3-none-any.whl.metadata (9.7 kB)\n",
      "Collecting docker-pycreds>=0.4.0 (from wandb)\n",
      "  Using cached docker_pycreds-0.4.0-py2.py3-none-any.whl (9.0 kB)\n",
      "Requirement already satisfied: PyYAML in /srv/conda/envs/notebook/lib/python3.10/site-packages (from wandb) (5.4.1)\n",
      "Collecting setproctitle (from wandb)\n",
      "  Obtaining dependency information for setproctitle from https://files.pythonhosted.org/packages/79/e7/54b36be02aee8ad573be68f6f46fd62838735c2f007b22df50eb5e13a20d/setproctitle-1.3.3-cp310-cp310-manylinux_2_5_x86_64.manylinux1_x86_64.manylinux_2_17_x86_64.manylinux2014_x86_64.whl.metadata\n",
      "  Using cached setproctitle-1.3.3-cp310-cp310-manylinux_2_5_x86_64.manylinux1_x86_64.manylinux_2_17_x86_64.manylinux2014_x86_64.whl.metadata (9.9 kB)\n",
      "Requirement already satisfied: setuptools in /srv/conda/envs/notebook/lib/python3.10/site-packages (from wandb) (68.1.2)\n",
      "Requirement already satisfied: appdirs>=1.4.3 in /srv/conda/envs/notebook/lib/python3.10/site-packages (from wandb) (1.4.4)\n",
      "Requirement already satisfied: protobuf!=4.21.0,<5,>=3.19.0 in /srv/conda/envs/notebook/lib/python3.10/site-packages (from wandb) (4.21.12)\n",
      "Requirement already satisfied: six>=1.4.0 in /srv/conda/envs/notebook/lib/python3.10/site-packages (from docker-pycreds>=0.4.0->wandb) (1.16.0)\n",
      "Requirement already satisfied: gitdb<5,>=4.0.1 in /srv/conda/envs/notebook/lib/python3.10/site-packages (from GitPython!=3.1.29,>=1.0.0->wandb) (4.0.10)\n",
      "Requirement already satisfied: charset-normalizer<4,>=2 in /srv/conda/envs/notebook/lib/python3.10/site-packages (from requests<3,>=2.0.0->wandb) (3.2.0)\n",
      "Requirement already satisfied: idna<4,>=2.5 in /srv/conda/envs/notebook/lib/python3.10/site-packages (from requests<3,>=2.0.0->wandb) (3.4)\n",
      "Requirement already satisfied: urllib3<3,>=1.21.1 in /srv/conda/envs/notebook/lib/python3.10/site-packages (from requests<3,>=2.0.0->wandb) (1.26.15)\n",
      "Requirement already satisfied: certifi>=2017.4.17 in /srv/conda/envs/notebook/lib/python3.10/site-packages (from requests<3,>=2.0.0->wandb) (2023.7.22)\n",
      "Requirement already satisfied: smmap<6,>=3.0.1 in /srv/conda/envs/notebook/lib/python3.10/site-packages (from gitdb<5,>=4.0.1->GitPython!=3.1.29,>=1.0.0->wandb) (3.0.5)\n",
      "Using cached wandb-0.16.1-py3-none-any.whl (2.1 MB)\n",
      "Using cached sentry_sdk-1.38.0-py2.py3-none-any.whl (252 kB)\n",
      "Using cached setproctitle-1.3.3-cp310-cp310-manylinux_2_5_x86_64.manylinux1_x86_64.manylinux_2_17_x86_64.manylinux2014_x86_64.whl (30 kB)\n",
      "Installing collected packages: setproctitle, sentry-sdk, docker-pycreds, wandb\n",
      "Successfully installed docker-pycreds-0.4.0 sentry-sdk-1.38.0 setproctitle-1.3.3 wandb-0.16.1\n"
     ]
    }
   ],
   "source": [
    "!pip install wandb"
   ]
  },
  {
   "cell_type": "code",
   "execution_count": 6,
   "id": "c9010c46-acd7-4c2c-a875-33ea699af2c9",
   "metadata": {
    "tags": []
   },
   "outputs": [],
   "source": [
    "import wandb\n",
    "import numpy as np\n",
    "import sys\n",
    "import torch\n",
    "import torch.utils.data as Data\n",
    "from torch.utils.data import DataLoader\n",
    "from torch.utils.data.sampler import SubsetRandomSampler\n",
    "import pytorch_lightning as pl\n",
    "from pytorch_lightning.loggers import WandbLogger\n",
    "from pytorch_lightning.callbacks import LearningRateMonitor\n",
    "from sklearn.metrics import r2_score\n",
    "from scipy.stats import pearsonr\n",
    "import torch.nn as nn"
   ]
  },
  {
   "cell_type": "code",
   "execution_count": 7,
   "id": "b009b3fd-e01f-474d-8875-3ad25755a815",
   "metadata": {
    "tags": []
   },
   "outputs": [],
   "source": [
    "from funcs import regression_system\n",
    "from funcs import fcnn\n",
    "from funcs import dataset"
   ]
  },
  {
   "cell_type": "code",
   "execution_count": 8,
   "id": "6890228f-ebd2-40a7-be64-3229b0dc6647",
   "metadata": {
    "tags": []
   },
   "outputs": [
    {
     "data": {
      "text/plain": [
       "True"
      ]
     },
     "execution_count": 8,
     "metadata": {},
     "output_type": "execute_result"
    }
   ],
   "source": [
    "wandb.login()"
   ]
  },
  {
   "cell_type": "code",
   "execution_count": 9,
   "id": "4930d109-c0a8-4c55-8216-25b356fe718c",
   "metadata": {
    "tags": []
   },
   "outputs": [],
   "source": [
    "inputs = ['grad_B','FCOR', 'Nsquared', 'HML', 'TAU', 'Q', 'HBL', 'div', 'vort', 'strain']"
   ]
  },
  {
   "cell_type": "code",
   "execution_count": 10,
   "id": "99ea1e03-bb89-4924-82a6-1fbb15ae5cd9",
   "metadata": {
    "tags": []
   },
   "outputs": [],
   "source": [
    "submeso_dataset=dataset.SubmesoDataset(inputs,res='1_4')"
   ]
  },
  {
   "cell_type": "code",
   "execution_count": 11,
   "id": "ac17a7cc-e51a-4264-8494-c8c4cccce993",
   "metadata": {
    "tags": []
   },
   "outputs": [],
   "source": [
    "train_loader=DataLoader(\n",
    "    submeso_dataset,\n",
    "    #num_workers=1,\n",
    "    batch_size=64,\n",
    "    sampler=SubsetRandomSampler(submeso_dataset.train_ind))"
   ]
  },
  {
   "cell_type": "code",
   "execution_count": 12,
   "id": "8dde7467-5d6b-49ce-8211-18e69fe24b4a",
   "metadata": {
    "tags": []
   },
   "outputs": [],
   "source": [
    "test_loader=DataLoader(\n",
    "    submeso_dataset,\n",
    "    #num_workers=1,\n",
    "    batch_size=len(submeso_dataset.test_ind),\n",
    "    sampler=submeso_dataset.test_ind)"
   ]
  },
  {
   "cell_type": "code",
   "execution_count": 13,
   "id": "4f9d3c5c-3b5a-4a89-81bd-8511077e2217",
   "metadata": {
    "tags": []
   },
   "outputs": [
    {
     "name": "stdout",
     "output_type": "stream",
     "text": [
      "CUDA Available\n"
     ]
    }
   ],
   "source": [
    "if torch.cuda.is_available():\n",
    "    print(\"CUDA Available\")\n",
    "    device = torch.device('cuda')\n",
    "else:\n",
    "    print('CUDA Not Available')\n",
    "    device = torch.device('cpu')"
   ]
  },
  {
   "cell_type": "code",
   "execution_count": 32,
   "id": "39f83a97-5bda-4c2b-8c35-aee31520a4b2",
   "metadata": {},
   "outputs": [],
   "source": [
    "def train():\n",
    "    wandb.init(project=\"submeso_ML\",config=config)\n",
    "    model=fcnn.FCNN(config)\n",
    "\n",
    "    total_params = sum(param.numel() for param in model.parameters())\n",
    "    wandb.config.update({\"Model Parameters\": total_params})\n",
    "\n",
    "    trainable_params = sum(p.numel() for p in model.parameters() if p.requires_grad)\n",
    "    wandb.config.update({\"Trainable Parameters\": trainable_params})\n",
    "    \n",
    "    system=regression_system.RegressionSystem(model,wandb.config[\"lr\"],wandb.config[\"wd\"])\n",
    "    wandb.watch(model, log_freq=1)\n",
    "    wandb_logger = WandbLogger()\n",
    "\n",
    "    trainer = pl.Trainer(\n",
    "        accelerator=\"auto\",\n",
    "        max_epochs=config[\"epochs\"],\n",
    "        enable_progress_bar=False,\n",
    "        logger=wandb_logger,\n",
    "        )\n",
    "    trainer.fit(system, train_loader, test_loader)\n",
    "  \n",
    "    wandb.finish()"
   ]
  },
  {
   "cell_type": "code",
   "execution_count": null,
   "id": "5ce1a76a-d35e-4aab-8467-43aa24f9e27f",
   "metadata": {},
   "outputs": [],
   "source": [
    "config={\"seed\":seed,\n",
    "        \"lr\":lr,\n",
    "        \"wd\":wd,\n",
    "        \"batch_size\":batch_size,\n",
    "        \"input_channels\":input_channels,\n",
    "        \"output_channels\":output_channels,\n",
    "        \"activation\":activation,\n",
    "        \"save_name\":save_name,\n",
    "        \"save_path\":save_path,\n",
    "        \"arch\":arch,\n",
    "        \"conv_layers\":conv_layers,\n",
    "        \"kernel\":kernel,\n",
    "        \"kernel_hidden\":kernel_hidden,\n",
    "        \"epochs\":epochs}"
   ]
  },
  {
   "cell_type": "code",
   "execution_count": 33,
   "id": "252ab451-9dec-4fb7-9c69-485e8286ea90",
   "metadata": {
    "tags": []
   },
   "outputs": [],
   "source": [
    "sweep_config = {\n",
    "    'method': 'random',\n",
    "    'name': 'sweep_test',\n",
    "    'metric': {\n",
    "    'name': 'test_loss',      #what's the name of loss here? it's definted in regression_system right?\n",
    "    'goal': 'minimize'},\n",
    "    'parameters': {\n",
    "        'seed': {\n",
    "            'value': 123},\n",
    "        'lr': {\n",
    "            'distribution': 'uniform',\n",
    "            'min': 0,\n",
    "            'max': 0.1},\n",
    "        'wd': {\n",
    "            'distribution': 'uniform',\n",
    "            'min': 0,\n",
    "            'max': 1}}}\n",
    "        'batch_size': {\n",
    "            'values': [16,32,64,128,256,512,1024]},\n",
    "        'input_channels': {\n",
    "            'value': len(inputs)},\n",
    "        'output_channels': {\n",
    "            'value': 1},\n",
    "        'activation': {\n",
    "            'values': ['ReLU', 'LeakyReLu', 'Tanh']},\n",
    "        'save_name': {\n",
    "            'value': save_name},\n",
    "        'save_path': {\n",
    "            'value': save_path},\n",
    "        'arch': {\n",
    "            'value': 'fcnn'},\n",
    "        'conv_layers': {\n",
    "            'values': [1,2,3,4,5,6,7,8]},\n",
    "        'kernal': {\n",
    "            'values': [2,3,4,5,6,7,8]},\n",
    "        'kernal_hidden': {\n",
    "            'values': [2,3,4,5,6,7,8]},\n",
    "        'epochs': {\n",
    "            'value': 100},\n",
    "    #'early_terminate':\n",
    "    #    'type': 'hyperband',\n",
    "    #    'min_iter':3}"
   ]
  },
  {
   "cell_type": "code",
   "execution_count": 34,
   "id": "118e837e-1cfe-4202-8f46-d9f6b1ced23c",
   "metadata": {
    "tags": []
   },
   "outputs": [],
   "source": [
    "'''seed=123\n",
    "batch_size=256\n",
    "input_channels=len(inputs)\n",
    "output_channels=1\n",
    "conv_layers = 2\n",
    "kernel = 5\n",
    "kernel_hidden = 3\n",
    "activation=\"ReLU\"\n",
    "arch=\"fcnn\"\n",
    "epochs=100\n",
    "save_path=BASE\n",
    "save_name=\"test-3.pt\"\n",
    "lr=0.0025\n",
    "wd=0.023133758465751404''';"
   ]
  },
  {
   "cell_type": "code",
   "execution_count": 35,
   "id": "b7f87403-e552-48c3-9423-b159ce4f5dad",
   "metadata": {},
   "outputs": [
    {
     "name": "stdout",
     "output_type": "stream",
     "text": [
      "Create sweep with ID: b1v02hyj\n",
      "Sweep URL: https://wandb.ai/fagerheim/submeso_ML/sweeps/b1v02hyj\n"
     ]
    }
   ],
   "source": [
    "sweep_id = wandb.sweep(sweep_config,project='submeso_ML')\n",
    "#sweep_id = wandb.sweep(sweep=sweep_configuration, project=\"%s\" % project_name)"
   ]
  },
  {
   "cell_type": "code",
   "execution_count": 36,
   "id": "9fbbca31-f681-450c-8d13-6a81f4d7ac46",
   "metadata": {},
   "outputs": [
    {
     "name": "stderr",
     "output_type": "stream",
     "text": [
      "\u001b[34m\u001b[1mwandb\u001b[0m: Agent Starting Run: rdlr7q07 with config:\n",
      "\u001b[34m\u001b[1mwandb\u001b[0m: \tactivation: Tanh\n",
      "\u001b[34m\u001b[1mwandb\u001b[0m: \tbatch_size: 64\n",
      "\u001b[34m\u001b[1mwandb\u001b[0m: \tconv_layers: 5\n",
      "\u001b[34m\u001b[1mwandb\u001b[0m: \tepochs: 100\n",
      "\u001b[34m\u001b[1mwandb\u001b[0m: \tinput_channels: 10\n",
      "\u001b[34m\u001b[1mwandb\u001b[0m: \tkernal: 4\n",
      "\u001b[34m\u001b[1mwandb\u001b[0m: \tkernal_hidden: 2\n",
      "\u001b[34m\u001b[1mwandb\u001b[0m: \tlearning_rate: 0.06708383129830534\n",
      "\u001b[34m\u001b[1mwandb\u001b[0m: \tseed: 123\n",
      "\u001b[34m\u001b[1mwandb\u001b[0m: \twd: 0.31820142276452745\n",
      "\u001b[34m\u001b[1mwandb\u001b[0m: \u001b[33mWARNING\u001b[0m Ignored wandb.init() arg project when running a sweep.\n",
      "cat: /sys/module/amdgpu/initstate: No such file or directory\n",
      "ERROR:root:Driver not initialized (amdgpu not found in modules)\n"
     ]
    },
    {
     "data": {
      "text/html": [
       "Tracking run with wandb version 0.16.1"
      ],
      "text/plain": [
       "<IPython.core.display.HTML object>"
      ]
     },
     "metadata": {},
     "output_type": "display_data"
    },
    {
     "data": {
      "text/html": [
       "Run data is saved locally in <code>/home/jovyan/ML_project/wandb/run-20231208_163559-rdlr7q07</code>"
      ],
      "text/plain": [
       "<IPython.core.display.HTML object>"
      ]
     },
     "metadata": {},
     "output_type": "display_data"
    },
    {
     "data": {
      "text/html": [
       "Syncing run <strong><a href='https://wandb.ai/fagerheim/submeso_ML/runs/rdlr7q07' target=\"_blank\">laced-sweep-1</a></strong> to <a href='https://wandb.ai/fagerheim/submeso_ML' target=\"_blank\">Weights & Biases</a> (<a href='https://wandb.me/run' target=\"_blank\">docs</a>)<br/>Sweep page: <a href='https://wandb.ai/fagerheim/submeso_ML/sweeps/b1v02hyj' target=\"_blank\">https://wandb.ai/fagerheim/submeso_ML/sweeps/b1v02hyj</a>"
      ],
      "text/plain": [
       "<IPython.core.display.HTML object>"
      ]
     },
     "metadata": {},
     "output_type": "display_data"
    },
    {
     "data": {
      "text/html": [
       " View project at <a href='https://wandb.ai/fagerheim/submeso_ML' target=\"_blank\">https://wandb.ai/fagerheim/submeso_ML</a>"
      ],
      "text/plain": [
       "<IPython.core.display.HTML object>"
      ]
     },
     "metadata": {},
     "output_type": "display_data"
    },
    {
     "data": {
      "text/html": [
       " View sweep at <a href='https://wandb.ai/fagerheim/submeso_ML/sweeps/b1v02hyj' target=\"_blank\">https://wandb.ai/fagerheim/submeso_ML/sweeps/b1v02hyj</a>"
      ],
      "text/plain": [
       "<IPython.core.display.HTML object>"
      ]
     },
     "metadata": {},
     "output_type": "display_data"
    },
    {
     "data": {
      "text/html": [
       " View run at <a href='https://wandb.ai/fagerheim/submeso_ML/runs/rdlr7q07' target=\"_blank\">https://wandb.ai/fagerheim/submeso_ML/runs/rdlr7q07</a>"
      ],
      "text/plain": [
       "<IPython.core.display.HTML object>"
      ]
     },
     "metadata": {},
     "output_type": "display_data"
    },
    {
     "data": {
      "application/vnd.jupyter.widget-view+json": {
       "model_id": "",
       "version_major": 2,
       "version_minor": 0
      },
      "text/plain": [
       "VBox(children=(Label(value='0.036 MB of 0.036 MB uploaded\\r'), FloatProgress(value=1.0, max=1.0)))"
      ]
     },
     "metadata": {},
     "output_type": "display_data"
    },
    {
     "data": {
      "text/html": [
       " View run <strong style=\"color:#cdcd00\">laced-sweep-1</strong> at: <a href='https://wandb.ai/fagerheim/submeso_ML/runs/rdlr7q07' target=\"_blank\">https://wandb.ai/fagerheim/submeso_ML/runs/rdlr7q07</a><br/>Synced 5 W&B file(s), 0 media file(s), 0 artifact file(s) and 0 other file(s)"
      ],
      "text/plain": [
       "<IPython.core.display.HTML object>"
      ]
     },
     "metadata": {},
     "output_type": "display_data"
    },
    {
     "data": {
      "text/html": [
       "Find logs at: <code>./wandb/run-20231208_163559-rdlr7q07/logs</code>"
      ],
      "text/plain": [
       "<IPython.core.display.HTML object>"
      ]
     },
     "metadata": {},
     "output_type": "display_data"
    },
    {
     "name": "stderr",
     "output_type": "stream",
     "text": [
      "Run rdlr7q07 errored: NameError(\"name 'config' is not defined\")\n",
      "\u001b[34m\u001b[1mwandb\u001b[0m: \u001b[32m\u001b[41mERROR\u001b[0m Run rdlr7q07 errored: NameError(\"name 'config' is not defined\")\n",
      "\u001b[34m\u001b[1mwandb\u001b[0m: Agent Starting Run: pqu26zup with config:\n",
      "\u001b[34m\u001b[1mwandb\u001b[0m: \tactivation: LeakyReLu\n",
      "\u001b[34m\u001b[1mwandb\u001b[0m: \tbatch_size: 128\n",
      "\u001b[34m\u001b[1mwandb\u001b[0m: \tconv_layers: 3\n",
      "\u001b[34m\u001b[1mwandb\u001b[0m: \tepochs: 100\n",
      "\u001b[34m\u001b[1mwandb\u001b[0m: \tinput_channels: 10\n",
      "\u001b[34m\u001b[1mwandb\u001b[0m: \tkernal: 3\n",
      "\u001b[34m\u001b[1mwandb\u001b[0m: \tkernal_hidden: 8\n",
      "\u001b[34m\u001b[1mwandb\u001b[0m: \tlearning_rate: 0.08740530871898394\n",
      "\u001b[34m\u001b[1mwandb\u001b[0m: \tseed: 123\n",
      "\u001b[34m\u001b[1mwandb\u001b[0m: \twd: 0.6788077967972709\n",
      "\u001b[34m\u001b[1mwandb\u001b[0m: \u001b[33mWARNING\u001b[0m Ignored wandb.init() arg project when running a sweep.\n",
      "cat: /sys/module/amdgpu/initstate: No such file or directory\n",
      "ERROR:root:Driver not initialized (amdgpu not found in modules)\n"
     ]
    },
    {
     "data": {
      "text/html": [
       "Tracking run with wandb version 0.16.1"
      ],
      "text/plain": [
       "<IPython.core.display.HTML object>"
      ]
     },
     "metadata": {},
     "output_type": "display_data"
    },
    {
     "data": {
      "text/html": [
       "Run data is saved locally in <code>/home/jovyan/ML_project/wandb/run-20231208_163625-pqu26zup</code>"
      ],
      "text/plain": [
       "<IPython.core.display.HTML object>"
      ]
     },
     "metadata": {},
     "output_type": "display_data"
    },
    {
     "data": {
      "text/html": [
       "Syncing run <strong><a href='https://wandb.ai/fagerheim/submeso_ML/runs/pqu26zup' target=\"_blank\">jumping-sweep-2</a></strong> to <a href='https://wandb.ai/fagerheim/submeso_ML' target=\"_blank\">Weights & Biases</a> (<a href='https://wandb.me/run' target=\"_blank\">docs</a>)<br/>Sweep page: <a href='https://wandb.ai/fagerheim/submeso_ML/sweeps/b1v02hyj' target=\"_blank\">https://wandb.ai/fagerheim/submeso_ML/sweeps/b1v02hyj</a>"
      ],
      "text/plain": [
       "<IPython.core.display.HTML object>"
      ]
     },
     "metadata": {},
     "output_type": "display_data"
    },
    {
     "data": {
      "text/html": [
       " View project at <a href='https://wandb.ai/fagerheim/submeso_ML' target=\"_blank\">https://wandb.ai/fagerheim/submeso_ML</a>"
      ],
      "text/plain": [
       "<IPython.core.display.HTML object>"
      ]
     },
     "metadata": {},
     "output_type": "display_data"
    },
    {
     "data": {
      "text/html": [
       " View sweep at <a href='https://wandb.ai/fagerheim/submeso_ML/sweeps/b1v02hyj' target=\"_blank\">https://wandb.ai/fagerheim/submeso_ML/sweeps/b1v02hyj</a>"
      ],
      "text/plain": [
       "<IPython.core.display.HTML object>"
      ]
     },
     "metadata": {},
     "output_type": "display_data"
    },
    {
     "data": {
      "text/html": [
       " View run at <a href='https://wandb.ai/fagerheim/submeso_ML/runs/pqu26zup' target=\"_blank\">https://wandb.ai/fagerheim/submeso_ML/runs/pqu26zup</a>"
      ],
      "text/plain": [
       "<IPython.core.display.HTML object>"
      ]
     },
     "metadata": {},
     "output_type": "display_data"
    },
    {
     "data": {
      "application/vnd.jupyter.widget-view+json": {
       "model_id": "",
       "version_major": 2,
       "version_minor": 0
      },
      "text/plain": [
       "VBox(children=(Label(value='0.036 MB of 0.036 MB uploaded\\r'), FloatProgress(value=1.0, max=1.0)))"
      ]
     },
     "metadata": {},
     "output_type": "display_data"
    },
    {
     "data": {
      "text/html": [
       " View run <strong style=\"color:#cdcd00\">jumping-sweep-2</strong> at: <a href='https://wandb.ai/fagerheim/submeso_ML/runs/pqu26zup' target=\"_blank\">https://wandb.ai/fagerheim/submeso_ML/runs/pqu26zup</a><br/>Synced 5 W&B file(s), 0 media file(s), 0 artifact file(s) and 0 other file(s)"
      ],
      "text/plain": [
       "<IPython.core.display.HTML object>"
      ]
     },
     "metadata": {},
     "output_type": "display_data"
    },
    {
     "data": {
      "text/html": [
       "Find logs at: <code>./wandb/run-20231208_163625-pqu26zup/logs</code>"
      ],
      "text/plain": [
       "<IPython.core.display.HTML object>"
      ]
     },
     "metadata": {},
     "output_type": "display_data"
    },
    {
     "name": "stderr",
     "output_type": "stream",
     "text": [
      "Run pqu26zup errored: NameError(\"name 'config' is not defined\")\n",
      "\u001b[34m\u001b[1mwandb\u001b[0m: \u001b[32m\u001b[41mERROR\u001b[0m Run pqu26zup errored: NameError(\"name 'config' is not defined\")\n",
      "\u001b[34m\u001b[1mwandb\u001b[0m: Agent Starting Run: 45zvj82i with config:\n",
      "\u001b[34m\u001b[1mwandb\u001b[0m: \tactivation: ReLU\n",
      "\u001b[34m\u001b[1mwandb\u001b[0m: \tbatch_size: 256\n",
      "\u001b[34m\u001b[1mwandb\u001b[0m: \tconv_layers: 6\n",
      "\u001b[34m\u001b[1mwandb\u001b[0m: \tepochs: 100\n",
      "\u001b[34m\u001b[1mwandb\u001b[0m: \tinput_channels: 10\n",
      "\u001b[34m\u001b[1mwandb\u001b[0m: \tkernal: 4\n",
      "\u001b[34m\u001b[1mwandb\u001b[0m: \tkernal_hidden: 6\n",
      "\u001b[34m\u001b[1mwandb\u001b[0m: \tlearning_rate: 0.02066238167366118\n",
      "\u001b[34m\u001b[1mwandb\u001b[0m: \tseed: 123\n",
      "\u001b[34m\u001b[1mwandb\u001b[0m: \twd: 0.12817020206267415\n",
      "\u001b[34m\u001b[1mwandb\u001b[0m: \u001b[33mWARNING\u001b[0m Ignored wandb.init() arg project when running a sweep.\n",
      "cat: /sys/module/amdgpu/initstate: No such file or directory\n",
      "ERROR:root:Driver not initialized (amdgpu not found in modules)\n"
     ]
    },
    {
     "data": {
      "text/html": [
       "Tracking run with wandb version 0.16.1"
      ],
      "text/plain": [
       "<IPython.core.display.HTML object>"
      ]
     },
     "metadata": {},
     "output_type": "display_data"
    },
    {
     "data": {
      "text/html": [
       "Run data is saved locally in <code>/home/jovyan/ML_project/wandb/run-20231208_163650-45zvj82i</code>"
      ],
      "text/plain": [
       "<IPython.core.display.HTML object>"
      ]
     },
     "metadata": {},
     "output_type": "display_data"
    },
    {
     "data": {
      "text/html": [
       "Syncing run <strong><a href='https://wandb.ai/fagerheim/submeso_ML/runs/45zvj82i' target=\"_blank\">light-sweep-3</a></strong> to <a href='https://wandb.ai/fagerheim/submeso_ML' target=\"_blank\">Weights & Biases</a> (<a href='https://wandb.me/run' target=\"_blank\">docs</a>)<br/>Sweep page: <a href='https://wandb.ai/fagerheim/submeso_ML/sweeps/b1v02hyj' target=\"_blank\">https://wandb.ai/fagerheim/submeso_ML/sweeps/b1v02hyj</a>"
      ],
      "text/plain": [
       "<IPython.core.display.HTML object>"
      ]
     },
     "metadata": {},
     "output_type": "display_data"
    },
    {
     "data": {
      "text/html": [
       " View project at <a href='https://wandb.ai/fagerheim/submeso_ML' target=\"_blank\">https://wandb.ai/fagerheim/submeso_ML</a>"
      ],
      "text/plain": [
       "<IPython.core.display.HTML object>"
      ]
     },
     "metadata": {},
     "output_type": "display_data"
    },
    {
     "data": {
      "text/html": [
       " View sweep at <a href='https://wandb.ai/fagerheim/submeso_ML/sweeps/b1v02hyj' target=\"_blank\">https://wandb.ai/fagerheim/submeso_ML/sweeps/b1v02hyj</a>"
      ],
      "text/plain": [
       "<IPython.core.display.HTML object>"
      ]
     },
     "metadata": {},
     "output_type": "display_data"
    },
    {
     "data": {
      "text/html": [
       " View run at <a href='https://wandb.ai/fagerheim/submeso_ML/runs/45zvj82i' target=\"_blank\">https://wandb.ai/fagerheim/submeso_ML/runs/45zvj82i</a>"
      ],
      "text/plain": [
       "<IPython.core.display.HTML object>"
      ]
     },
     "metadata": {},
     "output_type": "display_data"
    },
    {
     "data": {
      "application/vnd.jupyter.widget-view+json": {
       "model_id": "",
       "version_major": 2,
       "version_minor": 0
      },
      "text/plain": [
       "VBox(children=(Label(value='0.036 MB of 0.036 MB uploaded\\r'), FloatProgress(value=1.0, max=1.0)))"
      ]
     },
     "metadata": {},
     "output_type": "display_data"
    },
    {
     "data": {
      "text/html": [
       " View run <strong style=\"color:#cdcd00\">light-sweep-3</strong> at: <a href='https://wandb.ai/fagerheim/submeso_ML/runs/45zvj82i' target=\"_blank\">https://wandb.ai/fagerheim/submeso_ML/runs/45zvj82i</a><br/>Synced 5 W&B file(s), 0 media file(s), 0 artifact file(s) and 0 other file(s)"
      ],
      "text/plain": [
       "<IPython.core.display.HTML object>"
      ]
     },
     "metadata": {},
     "output_type": "display_data"
    },
    {
     "data": {
      "text/html": [
       "Find logs at: <code>./wandb/run-20231208_163650-45zvj82i/logs</code>"
      ],
      "text/plain": [
       "<IPython.core.display.HTML object>"
      ]
     },
     "metadata": {},
     "output_type": "display_data"
    },
    {
     "name": "stderr",
     "output_type": "stream",
     "text": [
      "Run 45zvj82i errored: NameError(\"name 'config' is not defined\")\n",
      "\u001b[34m\u001b[1mwandb\u001b[0m: \u001b[32m\u001b[41mERROR\u001b[0m Run 45zvj82i errored: NameError(\"name 'config' is not defined\")\n",
      "\u001b[34m\u001b[1mwandb\u001b[0m: Agent Starting Run: cpatoywx with config:\n",
      "\u001b[34m\u001b[1mwandb\u001b[0m: \tactivation: LeakyReLu\n",
      "\u001b[34m\u001b[1mwandb\u001b[0m: \tbatch_size: 256\n",
      "\u001b[34m\u001b[1mwandb\u001b[0m: \tconv_layers: 2\n",
      "\u001b[34m\u001b[1mwandb\u001b[0m: \tepochs: 100\n",
      "\u001b[34m\u001b[1mwandb\u001b[0m: \tinput_channels: 10\n",
      "\u001b[34m\u001b[1mwandb\u001b[0m: \tkernal: 2\n",
      "\u001b[34m\u001b[1mwandb\u001b[0m: \tkernal_hidden: 5\n",
      "\u001b[34m\u001b[1mwandb\u001b[0m: \tlearning_rate: 0.009782849147380849\n",
      "\u001b[34m\u001b[1mwandb\u001b[0m: \tseed: 123\n",
      "\u001b[34m\u001b[1mwandb\u001b[0m: \twd: 0.7441744723394297\n",
      "\u001b[34m\u001b[1mwandb\u001b[0m: \u001b[33mWARNING\u001b[0m Ignored wandb.init() arg project when running a sweep.\n",
      "cat: /sys/module/amdgpu/initstate: No such file or directory\n",
      "ERROR:root:Driver not initialized (amdgpu not found in modules)\n"
     ]
    },
    {
     "data": {
      "text/html": [
       "Tracking run with wandb version 0.16.1"
      ],
      "text/plain": [
       "<IPython.core.display.HTML object>"
      ]
     },
     "metadata": {},
     "output_type": "display_data"
    },
    {
     "data": {
      "text/html": [
       "Run data is saved locally in <code>/home/jovyan/ML_project/wandb/run-20231208_163715-cpatoywx</code>"
      ],
      "text/plain": [
       "<IPython.core.display.HTML object>"
      ]
     },
     "metadata": {},
     "output_type": "display_data"
    },
    {
     "data": {
      "text/html": [
       "Syncing run <strong><a href='https://wandb.ai/fagerheim/submeso_ML/runs/cpatoywx' target=\"_blank\">rare-sweep-4</a></strong> to <a href='https://wandb.ai/fagerheim/submeso_ML' target=\"_blank\">Weights & Biases</a> (<a href='https://wandb.me/run' target=\"_blank\">docs</a>)<br/>Sweep page: <a href='https://wandb.ai/fagerheim/submeso_ML/sweeps/b1v02hyj' target=\"_blank\">https://wandb.ai/fagerheim/submeso_ML/sweeps/b1v02hyj</a>"
      ],
      "text/plain": [
       "<IPython.core.display.HTML object>"
      ]
     },
     "metadata": {},
     "output_type": "display_data"
    },
    {
     "data": {
      "text/html": [
       " View project at <a href='https://wandb.ai/fagerheim/submeso_ML' target=\"_blank\">https://wandb.ai/fagerheim/submeso_ML</a>"
      ],
      "text/plain": [
       "<IPython.core.display.HTML object>"
      ]
     },
     "metadata": {},
     "output_type": "display_data"
    },
    {
     "data": {
      "text/html": [
       " View sweep at <a href='https://wandb.ai/fagerheim/submeso_ML/sweeps/b1v02hyj' target=\"_blank\">https://wandb.ai/fagerheim/submeso_ML/sweeps/b1v02hyj</a>"
      ],
      "text/plain": [
       "<IPython.core.display.HTML object>"
      ]
     },
     "metadata": {},
     "output_type": "display_data"
    },
    {
     "data": {
      "text/html": [
       " View run at <a href='https://wandb.ai/fagerheim/submeso_ML/runs/cpatoywx' target=\"_blank\">https://wandb.ai/fagerheim/submeso_ML/runs/cpatoywx</a>"
      ],
      "text/plain": [
       "<IPython.core.display.HTML object>"
      ]
     },
     "metadata": {},
     "output_type": "display_data"
    },
    {
     "data": {
      "application/vnd.jupyter.widget-view+json": {
       "model_id": "",
       "version_major": 2,
       "version_minor": 0
      },
      "text/plain": [
       "VBox(children=(Label(value='0.036 MB of 0.036 MB uploaded\\r'), FloatProgress(value=1.0, max=1.0)))"
      ]
     },
     "metadata": {},
     "output_type": "display_data"
    },
    {
     "data": {
      "text/html": [
       " View run <strong style=\"color:#cdcd00\">rare-sweep-4</strong> at: <a href='https://wandb.ai/fagerheim/submeso_ML/runs/cpatoywx' target=\"_blank\">https://wandb.ai/fagerheim/submeso_ML/runs/cpatoywx</a><br/>Synced 5 W&B file(s), 0 media file(s), 0 artifact file(s) and 0 other file(s)"
      ],
      "text/plain": [
       "<IPython.core.display.HTML object>"
      ]
     },
     "metadata": {},
     "output_type": "display_data"
    },
    {
     "data": {
      "text/html": [
       "Find logs at: <code>./wandb/run-20231208_163715-cpatoywx/logs</code>"
      ],
      "text/plain": [
       "<IPython.core.display.HTML object>"
      ]
     },
     "metadata": {},
     "output_type": "display_data"
    },
    {
     "name": "stderr",
     "output_type": "stream",
     "text": [
      "Run cpatoywx errored: NameError(\"name 'config' is not defined\")\n",
      "\u001b[34m\u001b[1mwandb\u001b[0m: \u001b[32m\u001b[41mERROR\u001b[0m Run cpatoywx errored: NameError(\"name 'config' is not defined\")\n",
      "\u001b[34m\u001b[1mwandb\u001b[0m: Agent Starting Run: wqlmqkeu with config:\n",
      "\u001b[34m\u001b[1mwandb\u001b[0m: \tactivation: ReLU\n",
      "\u001b[34m\u001b[1mwandb\u001b[0m: \tbatch_size: 1024\n",
      "\u001b[34m\u001b[1mwandb\u001b[0m: \tconv_layers: 8\n",
      "\u001b[34m\u001b[1mwandb\u001b[0m: \tepochs: 100\n",
      "\u001b[34m\u001b[1mwandb\u001b[0m: \tinput_channels: 10\n",
      "\u001b[34m\u001b[1mwandb\u001b[0m: \tkernal: 6\n",
      "\u001b[34m\u001b[1mwandb\u001b[0m: \tkernal_hidden: 7\n",
      "\u001b[34m\u001b[1mwandb\u001b[0m: \tlearning_rate: 0.0762862600005293\n",
      "\u001b[34m\u001b[1mwandb\u001b[0m: \tseed: 123\n",
      "\u001b[34m\u001b[1mwandb\u001b[0m: \twd: 0.2287153309919775\n",
      "\u001b[34m\u001b[1mwandb\u001b[0m: \u001b[33mWARNING\u001b[0m Ignored wandb.init() arg project when running a sweep.\n",
      "cat: /sys/module/amdgpu/initstate: No such file or directory\n",
      "ERROR:root:Driver not initialized (amdgpu not found in modules)\n",
      "\u001b[34m\u001b[1mwandb\u001b[0m: Ctrl + C detected. Stopping sweep.\n"
     ]
    }
   ],
   "source": [
    "wandb.agent(sweep_id, function=train, project='submeso_ML',count=5)\n",
    "#wandb.agent(sweep_id, function=train, count=30)"
   ]
  },
  {
   "cell_type": "code",
   "execution_count": 37,
   "id": "5f0900d5-c889-4b59-918e-833fd60e6ddf",
   "metadata": {
    "tags": []
   },
   "outputs": [
    {
     "name": "stdout",
     "output_type": "stream",
     "text": [
      "Problem at:"
     ]
    },
    {
     "name": "stderr",
     "output_type": "stream",
     "text": [
      "Traceback (most recent call last):\n",
      "\u001b[34m\u001b[1mwandb\u001b[0m: \u001b[33mWARNING\u001b[0m Unable to render progress bar, see the user log for details\n",
      "\u001b[34m\u001b[1mwandb\u001b[0m: \u001b[32m\u001b[41mERROR\u001b[0m Problem finishing run\n",
      "Exception in thread Thread-23 (_run_job):\n",
      "Traceback (most recent call last):\n",
      "  File \"/srv/conda/envs/notebook/lib/python3.10/site-packages/wandb/sdk/wandb_init.py\", line 1170, in init\n",
      "    run = wi.init()\n",
      "  File \"/srv/conda/envs/notebook/lib/python3.10/site-packages/wandb/sdk/wandb_init.py\", line 840, in init\n",
      "    run._on_start()\n",
      "  File \"/srv/conda/envs/notebook/lib/python3.10/site-packages/wandb/sdk/wandb_run.py\", line 2272, in _on_start\n",
      "    self._header(\n",
      "  File \"/srv/conda/envs/notebook/lib/python3.10/site-packages/wandb/sdk/wandb_run.py\", line 3430, in _header\n",
      "    Run._header_wandb_version_info(settings=settings, printer=printer)\n",
      "  File \"/srv/conda/envs/notebook/lib/python3.10/site-packages/wandb/sdk/wandb_run.py\", line 3463, in _header_wandb_version_info\n",
      "    printer.display(\n",
      "  File \"/srv/conda/envs/notebook/lib/python3.10/site-packages/wandb/sdk/lib/printer.py\", line 68, in display\n",
      "    self._display(text, level=level, default_text=default_text)\n",
      "  File \"/srv/conda/envs/notebook/lib/python3.10/site-packages/wandb/sdk/lib/printer.py\", line 248, in _display\n",
      "    self._display_fn_mapping(level)(text)\n",
      "  File \"/srv/conda/envs/notebook/lib/python3.10/site-packages/wandb/sdk/lib/ipython.py\", line 81, in display_html\n",
      "    return display(HTML(html))\n",
      "  File \"/srv/conda/envs/notebook/lib/python3.10/site-packages/IPython/core/display_functions.py\", line 305, in display\n",
      "    publish_display_data(data=format_dict, metadata=md_dict, **kwargs)\n",
      "  File \"/srv/conda/envs/notebook/lib/python3.10/site-packages/IPython/core/display_functions.py\", line 93, in publish_display_data\n",
      "    display_pub.publish(\n",
      "  File \"/srv/conda/envs/notebook/lib/python3.10/site-packages/wandb/sdk/wandb_init.py\", line 481, in publish\n",
      "    ipython.display_pub._orig_publish(data, metadata=metadata, **kwargs)\n",
      "  File \"/srv/conda/envs/notebook/lib/python3.10/site-packages/ipykernel/zmqshell.py\", line 102, in publish\n",
      "    self._flush_streams()\n",
      "  File \"/srv/conda/envs/notebook/lib/python3.10/site-packages/ipykernel/zmqshell.py\", line 65, in _flush_streams\n",
      "    sys.stdout.flush()\n",
      "  File \"/srv/conda/envs/notebook/lib/python3.10/site-packages/ipykernel/iostream.py\", line 559, in flush\n",
      "    self.pub_thread.schedule(self._flush)\n",
      "  File \"/srv/conda/envs/notebook/lib/python3.10/site-packages/ipykernel/iostream.py\", line 251, in schedule\n",
      "    self._event_pipe.send(b\"\")\n",
      "  File \"/srv/conda/envs/notebook/lib/python3.10/site-packages/zmq/sugar/socket.py\", line 620, in send\n",
      "    return super().send(data, flags=flags, copy=copy, track=track)\n",
      "  File \"zmq/backend/cython/socket.pyx\", line 746, in zmq.backend.cython.socket.Socket.send\n",
      "  File \"zmq/backend/cython/socket.pyx\", line 787, in zmq.backend.cython.socket.Socket.send\n",
      "  File \"zmq/backend/cython/socket.pyx\", line 138, in zmq.backend.cython.socket._check_closed\n",
      "zmq.error.ZMQError: Socket operation on non-socket\n",
      "\n",
      "During handling of the above exception, another exception occurred:\n",
      "\n",
      "Traceback (most recent call last):\n",
      "  File \"/srv/conda/envs/notebook/lib/python3.10/site-packages/wandb/sdk/wandb_init.py\", line 1178, in init\n",
      "    getcaller()\n",
      "  File \"/srv/conda/envs/notebook/lib/python3.10/site-packages/wandb/sdk/wandb_init.py\", line 849, in getcaller\n",
      "    print(\"Problem at:\", src, line, func)\n",
      "  File \"/srv/conda/envs/notebook/lib/python3.10/site-packages/ipykernel/iostream.py\", line 648, in write\n",
      "    self._schedule_flush()\n",
      "  File \"/srv/conda/envs/notebook/lib/python3.10/site-packages/ipykernel/iostream.py\", line 545, in _schedule_flush\n",
      "    self.pub_thread.schedule(_schedule_in_thread)\n",
      "  File \"/srv/conda/envs/notebook/lib/python3.10/site-packages/ipykernel/iostream.py\", line 251, in schedule\n",
      "    self._event_pipe.send(b\"\")\n",
      "  File \"/srv/conda/envs/notebook/lib/python3.10/site-packages/zmq/sugar/socket.py\", line 620, in send\n",
      "    return super().send(data, flags=flags, copy=copy, track=track)\n",
      "  File \"zmq/backend/cython/socket.pyx\", line 746, in zmq.backend.cython.socket.Socket.send\n",
      "  File \"zmq/backend/cython/socket.pyx\", line 787, in zmq.backend.cython.socket.Socket.send\n",
      "  File \"zmq/backend/cython/socket.pyx\", line 138, in zmq.backend.cython.socket._check_closed\n",
      "zmq.error.ZMQError: Socket operation on non-socket\n",
      "\n",
      "The above exception was the direct cause of the following exception:\n",
      "\n",
      "Traceback (most recent call last):\n",
      "  File \"/srv/conda/envs/notebook/lib/python3.10/site-packages/wandb/agents/pyagent.py\", line 298, in _run_job\n",
      "    self._function()\n",
      "  File \"/tmp/ipykernel_380/1500484788.py\", line 2, in train\n",
      "  File \"/srv/conda/envs/notebook/lib/python3.10/site-packages/wandb/sdk/wandb_init.py\", line 1208, in init\n",
      "    raise Error(\"An unexpected error occurred\") from error_seen\n",
      "wandb.errors.Error: An unexpected error occurred\n",
      "\n",
      "During handling of the above exception, another exception occurred:\n",
      "\n",
      "Traceback (most recent call last):\n",
      "  File \"/srv/conda/envs/notebook/lib/python3.10/site-packages/wandb/sdk/lib/ipython.py\", line 113, in update\n",
      "    self._progress.value = value\n",
      "  File \"/srv/conda/envs/notebook/lib/python3.10/site-packages/traitlets/traitlets.py\", line 732, in __set__\n",
      "    self.set(obj, value)\n",
      "  File \"/srv/conda/envs/notebook/lib/python3.10/site-packages/traitlets/traitlets.py\", line 721, in set\n",
      "    obj._notify_trait(self.name, old_value, new_value)\n",
      "  File \"/srv/conda/envs/notebook/lib/python3.10/site-packages/traitlets/traitlets.py\", line 1505, in _notify_trait\n",
      "    self.notify_change(\n",
      "  File \"/srv/conda/envs/notebook/lib/python3.10/site-packages/ipywidgets/widgets/widget.py\", line 700, in notify_change\n",
      "    self.send_state(key=name)\n",
      "  File \"/srv/conda/envs/notebook/lib/python3.10/site-packages/ipywidgets/widgets/widget.py\", line 586, in send_state\n",
      "    self._send(msg, buffers=buffers)\n",
      "  File \"/srv/conda/envs/notebook/lib/python3.10/site-packages/ipywidgets/widgets/widget.py\", line 825, in _send\n",
      "    self.comm.send(data=msg, buffers=buffers)\n",
      "  File \"/srv/conda/envs/notebook/lib/python3.10/site-packages/comm/base_comm.py\", line 113, in send\n",
      "    self.publish_msg(\n",
      "  File \"/srv/conda/envs/notebook/lib/python3.10/site-packages/ipykernel/comm/comm.py\", line 36, in publish_msg\n",
      "    self.kernel.session.send(\n",
      "  File \"/srv/conda/envs/notebook/lib/python3.10/site-packages/jupyter_client/session.py\", line 859, in send\n",
      "    stream.send_multipart(to_send, copy=copy)\n",
      "  File \"/srv/conda/envs/notebook/lib/python3.10/site-packages/ipykernel/iostream.py\", line 330, in send_multipart\n",
      "    return self.io_thread.send_multipart(*args, **kwargs)\n",
      "  File \"/srv/conda/envs/notebook/lib/python3.10/site-packages/ipykernel/iostream.py\", line 260, in send_multipart\n",
      "    self.schedule(lambda: self._really_send(*args, **kwargs))\n",
      "  File \"/srv/conda/envs/notebook/lib/python3.10/site-packages/ipykernel/iostream.py\", line 251, in schedule\n",
      "    self._event_pipe.send(b\"\")\n",
      "  File \"/srv/conda/envs/notebook/lib/python3.10/site-packages/zmq/sugar/socket.py\", line 620, in send\n",
      "    return super().send(data, flags=flags, copy=copy, track=track)\n",
      "  File \"zmq/backend/cython/socket.pyx\", line 746, in zmq.backend.cython.socket.Socket.send\n",
      "  File \"zmq/backend/cython/socket.pyx\", line 787, in zmq.backend.cython.socket.Socket.send\n",
      "  File \"zmq/backend/cython/socket.pyx\", line 138, in zmq.backend.cython.socket._check_closed\n",
      "zmq.error.ZMQError: Socket operation on non-socket\n",
      "\n",
      "During handling of the above exception, another exception occurred:\n",
      "\n",
      "Traceback (most recent call last):\n",
      "  File \"/srv/conda/envs/notebook/lib/python3.10/site-packages/wandb/sdk/wandb_run.py\", line 2211, in _atexit_cleanup\n",
      "    self._on_finish()\n",
      "  File \"/srv/conda/envs/notebook/lib/python3.10/site-packages/wandb/sdk/wandb_run.py\", line 2451, in _on_finish\n",
      "    _ = exit_handle.wait(timeout=-1, on_progress=self._on_progress_exit)\n",
      "  File \"/srv/conda/envs/notebook/lib/python3.10/site-packages/wandb/sdk/lib/mailbox.py\", line 303, in wait\n",
      "    on_progress(progress_handle)\n",
      "  File \"/srv/conda/envs/notebook/lib/python3.10/site-packages/wandb/sdk/wandb_run.py\", line 2430, in _on_progress_exit\n",
      "    self._footer_file_pusher_status_info(\n",
      "  File \"/srv/conda/envs/notebook/lib/python3.10/site-packages/wandb/sdk/wandb_run.py\", line 3648, in _footer_file_pusher_status_info\n",
      "    Run._footer_single_run_file_pusher_status_info(\n",
      "  File \"/srv/conda/envs/notebook/lib/python3.10/site-packages/wandb/sdk/wandb_run.py\", line 3699, in _footer_single_run_file_pusher_status_info\n",
      "    printer.progress_update(line, percent_done)\n",
      "  File \"/srv/conda/envs/notebook/lib/python3.10/site-packages/wandb/sdk/lib/printer.py\", line 288, in progress_update\n",
      "    self._progress.update(percent_done, text)\n",
      "  File \"/srv/conda/envs/notebook/lib/python3.10/site-packages/wandb/sdk/lib/ipython.py\", line 121, in update\n",
      "    wandb.termwarn(\n",
      "  File \"/srv/conda/envs/notebook/lib/python3.10/site-packages/wandb/errors/term.py\", line 50, in termwarn\n",
      "    _log(\n",
      "  File \"/srv/conda/envs/notebook/lib/python3.10/site-packages/wandb/errors/term.py\", line 95, in _log\n",
      "    click.echo(line, file=sys.stderr, nl=newline)\n",
      "  File \"/srv/conda/envs/notebook/lib/python3.10/site-packages/click/utils.py\", line 319, in echo\n",
      "    file.flush()\n",
      "  File \"/srv/conda/envs/notebook/lib/python3.10/site-packages/ipykernel/iostream.py\", line 559, in flush\n",
      "    self.pub_thread.schedule(self._flush)\n",
      "  File \"/srv/conda/envs/notebook/lib/python3.10/site-packages/ipykernel/iostream.py\", line 251, in schedule\n",
      "    self._event_pipe.send(b\"\")\n",
      "  File \"/srv/conda/envs/notebook/lib/python3.10/site-packages/zmq/sugar/socket.py\", line 620, in send\n",
      "    return super().send(data, flags=flags, copy=copy, track=track)\n",
      "  File \"zmq/backend/cython/socket.pyx\", line 746, in zmq.backend.cython.socket.Socket.send\n",
      "  File \"zmq/backend/cython/socket.pyx\", line 787, in zmq.backend.cython.socket.Socket.send\n",
      "  File \"zmq/backend/cython/socket.pyx\", line 138, in zmq.backend.cython.socket._check_closed\n",
      "zmq.error.ZMQError: Socket operation on non-socket\n",
      "\n",
      "During handling of the above exception, another exception occurred:\n",
      "\n",
      "Traceback (most recent call last):\n",
      "  File \"/srv/conda/envs/notebook/lib/python3.10/threading.py\", line 1016, in _bootstrap_inner\n",
      "    self.run()\n",
      "  File \"/srv/conda/envs/notebook/lib/python3.10/threading.py\", line 953, in run\n",
      "    self._target(*self._args, **self._kwargs)\n",
      "  File \"/srv/conda/envs/notebook/lib/python3.10/site-packages/wandb/agents/pyagent.py\", line 303, in _run_job\n",
      "    wandb.finish(exit_code=1)\n",
      "  File \"/srv/conda/envs/notebook/lib/python3.10/site-packages/wandb/sdk/wandb_run.py\", line 4090, in finish\n",
      "    wandb.run.finish(exit_code=exit_code, quiet=quiet)\n",
      "  File \"/srv/conda/envs/notebook/lib/python3.10/site-packages/wandb/sdk/wandb_run.py\", line 420, in wrapper\n",
      "    return func(self, *args, **kwargs)\n",
      "  File \"/srv/conda/envs/notebook/lib/python3.10/site-packages/wandb/sdk/wandb_run.py\", line 361, in wrapper\n",
      "    return func(self, *args, **kwargs)\n",
      "  File \"/srv/conda/envs/notebook/lib/python3.10/site-packages/wandb/sdk/wandb_run.py\", line 1953, in finish\n",
      "    return self._finish(exit_code, quiet)\n",
      "  File \"/srv/conda/envs/notebook/lib/python3.10/site-packages/wandb/sdk/wandb_run.py\", line 1968, in _finish\n",
      "    self._atexit_cleanup(exit_code=exit_code)\n",
      "  File \"/srv/conda/envs/notebook/lib/python3.10/site-packages/wandb/sdk/wandb_run.py\", line 2224, in _atexit_cleanup\n",
      "    wandb.termerror(\"Problem finishing run\")\n",
      "  File \"/srv/conda/envs/notebook/lib/python3.10/site-packages/wandb/errors/term.py\", line 61, in termerror\n",
      "    _log(\n",
      "  File \"/srv/conda/envs/notebook/lib/python3.10/site-packages/wandb/errors/term.py\", line 95, in _log\n",
      "    click.echo(line, file=sys.stderr, nl=newline)\n",
      "  File \"/srv/conda/envs/notebook/lib/python3.10/site-packages/click/utils.py\", line 319, in echo\n",
      "    file.flush()\n",
      "  File \"/srv/conda/envs/notebook/lib/python3.10/site-packages/ipykernel/iostream.py\", line 559, in flush\n",
      "    self.pub_thread.schedule(self._flush)\n",
      "  File \"/srv/conda/envs/notebook/lib/python3.10/site-packages/ipykernel/iostream.py\", line 251, in schedule\n",
      "    self._event_pipe.send(b\"\")\n",
      "  File \"/srv/conda/envs/notebook/lib/python3.10/site-packages/zmq/sugar/socket.py\", line 620, in send\n",
      "    return super().send(data, flags=flags, copy=copy, track=track)\n",
      "  File \"zmq/backend/cython/socket.pyx\", line 746, in zmq.backend.cython.socket.Socket.send\n",
      "  File \"zmq/backend/cython/socket.pyx\", line 787, in zmq.backend.cython.socket.Socket.send\n",
      "  File \"zmq/backend/cython/socket.pyx\", line 138, in zmq.backend.cython.socket._check_closed\n",
      "zmq.error.ZMQError: Socket operation on non-socket\n",
      "Exception in threading.excepthook:\n",
      "Exception ignored in thread started by: <bound method Thread._bootstrap of <Thread(Thread-23 (_run_job), stopped 134989900899904)>>\n",
      "Traceback (most recent call last):\n",
      "  File \"/srv/conda/envs/notebook/lib/python3.10/threading.py\", line 973, in _bootstrap\n",
      "    self._bootstrap_inner()\n",
      "  File \"/srv/conda/envs/notebook/lib/python3.10/threading.py\", line 1018, in _bootstrap_inner\n",
      "    self._invoke_excepthook(self)\n",
      "  File \"/srv/conda/envs/notebook/lib/python3.10/threading.py\", line 1336, in invoke_excepthook\n",
      "    local_print(\"Exception in threading.excepthook:\",\n",
      "  File \"/srv/conda/envs/notebook/lib/python3.10/site-packages/ipykernel/iostream.py\", line 559, in flush\n",
      "    self.pub_thread.schedule(self._flush)\n",
      "  File \"/srv/conda/envs/notebook/lib/python3.10/site-packages/ipykernel/iostream.py\", line 251, in schedule\n",
      "    self._event_pipe.send(b\"\")\n",
      "  File \"/srv/conda/envs/notebook/lib/python3.10/site-packages/zmq/sugar/socket.py\", line 620, in send\n",
      "    return super().send(data, flags=flags, copy=copy, track=track)\n",
      "  File \"zmq/backend/cython/socket.pyx\", line 746, in zmq.backend.cython.socket.Socket.send\n",
      "  File \"zmq/backend/cython/socket.pyx\", line 787, in zmq.backend.cython.socket.Socket.send\n",
      "  File \"zmq/backend/cython/socket.pyx\", line 138, in zmq.backend.cython.socket._check_closed\n",
      "zmq.error.ZMQError: Socket operation on non-socket\n",
      "Exception ignored in sys.unraisablehook: <built-in function unraisablehook>\n",
      "Traceback (most recent call last):\n",
      "  File \"/srv/conda/envs/notebook/lib/python3.10/site-packages/ipykernel/iostream.py\", line 559, in flush\n",
      "    self.pub_thread.schedule(self._flush)\n",
      "  File \"/srv/conda/envs/notebook/lib/python3.10/site-packages/ipykernel/iostream.py\", line 251, in schedule\n",
      "    self._event_pipe.send(b\"\")\n",
      "  File \"/srv/conda/envs/notebook/lib/python3.10/site-packages/zmq/sugar/socket.py\", line 620, in send\n",
      "    return super().send(data, flags=flags, copy=copy, track=track)\n",
      "  File \"zmq/backend/cython/socket.pyx\", line 746, in zmq.backend.cython.socket.Socket.send\n",
      "  File \"zmq/backend/cython/socket.pyx\", line 787, in zmq.backend.cython.socket.Socket.send\n",
      "  File \"zmq/backend/cython/socket.pyx\", line 138, in zmq.backend.cython.socket._check_closed\n",
      "zmq.error.ZMQError: Socket operation on non-socket\n"
     ]
    },
    {
     "ename": "AttributeError",
     "evalue": "'ZMQDisplayPublisher' object has no attribute '_orig_publish'",
     "output_type": "error",
     "traceback": [
      "\u001b[0;31m---------------------------------------------------------------------------\u001b[0m",
      "\u001b[0;31mAttributeError\u001b[0m                            Traceback (most recent call last)",
      "Cell \u001b[0;32mIn[37], line 1\u001b[0m\n\u001b[0;32m----> 1\u001b[0m \u001b[43mwandb\u001b[49m\u001b[38;5;241;43m.\u001b[39;49m\u001b[43mfinish\u001b[49m\u001b[43m(\u001b[49m\u001b[43m)\u001b[49m\n",
      "File \u001b[0;32m/srv/conda/envs/notebook/lib/python3.10/site-packages/wandb/sdk/wandb_run.py:4090\u001b[0m, in \u001b[0;36mfinish\u001b[0;34m(exit_code, quiet)\u001b[0m\n\u001b[1;32m   4080\u001b[0m \u001b[38;5;250m\u001b[39m\u001b[38;5;124;03m\"\"\"Mark a run as finished, and finish uploading all data.\u001b[39;00m\n\u001b[1;32m   4081\u001b[0m \n\u001b[1;32m   4082\u001b[0m \u001b[38;5;124;03mThis is used when creating multiple runs in the same process.\u001b[39;00m\n\u001b[0;32m   (...)\u001b[0m\n\u001b[1;32m   4087\u001b[0m \u001b[38;5;124;03m    quiet: Set to true to minimize log output\u001b[39;00m\n\u001b[1;32m   4088\u001b[0m \u001b[38;5;124;03m\"\"\"\u001b[39;00m\n\u001b[1;32m   4089\u001b[0m \u001b[38;5;28;01mif\u001b[39;00m wandb\u001b[38;5;241m.\u001b[39mrun:\n\u001b[0;32m-> 4090\u001b[0m     \u001b[43mwandb\u001b[49m\u001b[38;5;241;43m.\u001b[39;49m\u001b[43mrun\u001b[49m\u001b[38;5;241;43m.\u001b[39;49m\u001b[43mfinish\u001b[49m\u001b[43m(\u001b[49m\u001b[43mexit_code\u001b[49m\u001b[38;5;241;43m=\u001b[39;49m\u001b[43mexit_code\u001b[49m\u001b[43m,\u001b[49m\u001b[43m \u001b[49m\u001b[43mquiet\u001b[49m\u001b[38;5;241;43m=\u001b[39;49m\u001b[43mquiet\u001b[49m\u001b[43m)\u001b[49m\n",
      "File \u001b[0;32m/srv/conda/envs/notebook/lib/python3.10/site-packages/wandb/sdk/wandb_run.py:420\u001b[0m, in \u001b[0;36m_run_decorator._noop.<locals>.wrapper\u001b[0;34m(self, *args, **kwargs)\u001b[0m\n\u001b[1;32m    417\u001b[0m         wandb\u001b[38;5;241m.\u001b[39mtermwarn(message, repeat\u001b[38;5;241m=\u001b[39m\u001b[38;5;28;01mFalse\u001b[39;00m)\n\u001b[1;32m    418\u001b[0m         \u001b[38;5;28;01mreturn\u001b[39;00m \u001b[38;5;28mcls\u001b[39m\u001b[38;5;241m.\u001b[39mDummy()\n\u001b[0;32m--> 420\u001b[0m \u001b[38;5;28;01mreturn\u001b[39;00m \u001b[43mfunc\u001b[49m\u001b[43m(\u001b[49m\u001b[38;5;28;43mself\u001b[39;49m\u001b[43m,\u001b[49m\u001b[43m \u001b[49m\u001b[38;5;241;43m*\u001b[39;49m\u001b[43margs\u001b[49m\u001b[43m,\u001b[49m\u001b[43m \u001b[49m\u001b[38;5;241;43m*\u001b[39;49m\u001b[38;5;241;43m*\u001b[39;49m\u001b[43mkwargs\u001b[49m\u001b[43m)\u001b[49m\n",
      "File \u001b[0;32m/srv/conda/envs/notebook/lib/python3.10/site-packages/wandb/sdk/wandb_run.py:361\u001b[0m, in \u001b[0;36m_run_decorator._attach.<locals>.wrapper\u001b[0;34m(self, *args, **kwargs)\u001b[0m\n\u001b[1;32m    359\u001b[0m         \u001b[38;5;28;01mraise\u001b[39;00m e\n\u001b[1;32m    360\u001b[0m     \u001b[38;5;28mcls\u001b[39m\u001b[38;5;241m.\u001b[39m_is_attaching \u001b[38;5;241m=\u001b[39m \u001b[38;5;124m\"\u001b[39m\u001b[38;5;124m\"\u001b[39m\n\u001b[0;32m--> 361\u001b[0m \u001b[38;5;28;01mreturn\u001b[39;00m \u001b[43mfunc\u001b[49m\u001b[43m(\u001b[49m\u001b[38;5;28;43mself\u001b[39;49m\u001b[43m,\u001b[49m\u001b[43m \u001b[49m\u001b[38;5;241;43m*\u001b[39;49m\u001b[43margs\u001b[49m\u001b[43m,\u001b[49m\u001b[43m \u001b[49m\u001b[38;5;241;43m*\u001b[39;49m\u001b[38;5;241;43m*\u001b[39;49m\u001b[43mkwargs\u001b[49m\u001b[43m)\u001b[49m\n",
      "File \u001b[0;32m/srv/conda/envs/notebook/lib/python3.10/site-packages/wandb/sdk/wandb_run.py:1953\u001b[0m, in \u001b[0;36mRun.finish\u001b[0;34m(self, exit_code, quiet)\u001b[0m\n\u001b[1;32m   1939\u001b[0m \u001b[38;5;129m@_run_decorator\u001b[39m\u001b[38;5;241m.\u001b[39m_noop\n\u001b[1;32m   1940\u001b[0m \u001b[38;5;129m@_run_decorator\u001b[39m\u001b[38;5;241m.\u001b[39m_attach\n\u001b[1;32m   1941\u001b[0m \u001b[38;5;28;01mdef\u001b[39;00m \u001b[38;5;21mfinish\u001b[39m(\n\u001b[1;32m   1942\u001b[0m     \u001b[38;5;28mself\u001b[39m, exit_code: Optional[\u001b[38;5;28mint\u001b[39m] \u001b[38;5;241m=\u001b[39m \u001b[38;5;28;01mNone\u001b[39;00m, quiet: Optional[\u001b[38;5;28mbool\u001b[39m] \u001b[38;5;241m=\u001b[39m \u001b[38;5;28;01mNone\u001b[39;00m\n\u001b[1;32m   1943\u001b[0m ) \u001b[38;5;241m-\u001b[39m\u001b[38;5;241m>\u001b[39m \u001b[38;5;28;01mNone\u001b[39;00m:\n\u001b[1;32m   1944\u001b[0m \u001b[38;5;250m    \u001b[39m\u001b[38;5;124;03m\"\"\"Mark a run as finished, and finish uploading all data.\u001b[39;00m\n\u001b[1;32m   1945\u001b[0m \n\u001b[1;32m   1946\u001b[0m \u001b[38;5;124;03m    This is used when creating multiple runs in the same process. We automatically\u001b[39;00m\n\u001b[0;32m   (...)\u001b[0m\n\u001b[1;32m   1951\u001b[0m \u001b[38;5;124;03m        quiet: Set to true to minimize log output\u001b[39;00m\n\u001b[1;32m   1952\u001b[0m \u001b[38;5;124;03m    \"\"\"\u001b[39;00m\n\u001b[0;32m-> 1953\u001b[0m     \u001b[38;5;28;01mreturn\u001b[39;00m \u001b[38;5;28;43mself\u001b[39;49m\u001b[38;5;241;43m.\u001b[39;49m\u001b[43m_finish\u001b[49m\u001b[43m(\u001b[49m\u001b[43mexit_code\u001b[49m\u001b[43m,\u001b[49m\u001b[43m \u001b[49m\u001b[43mquiet\u001b[49m\u001b[43m)\u001b[49m\n",
      "File \u001b[0;32m/srv/conda/envs/notebook/lib/python3.10/site-packages/wandb/sdk/wandb_run.py:1966\u001b[0m, in \u001b[0;36mRun._finish\u001b[0;34m(self, exit_code, quiet)\u001b[0m\n\u001b[1;32m   1964\u001b[0m \u001b[38;5;28;01mfor\u001b[39;00m hook \u001b[38;5;129;01min\u001b[39;00m \u001b[38;5;28mself\u001b[39m\u001b[38;5;241m.\u001b[39m_teardown_hooks:\n\u001b[1;32m   1965\u001b[0m     \u001b[38;5;28;01mif\u001b[39;00m hook\u001b[38;5;241m.\u001b[39mstage \u001b[38;5;241m==\u001b[39m TeardownStage\u001b[38;5;241m.\u001b[39mEARLY:\n\u001b[0;32m-> 1966\u001b[0m         \u001b[43mhook\u001b[49m\u001b[38;5;241;43m.\u001b[39;49m\u001b[43mcall\u001b[49m\u001b[43m(\u001b[49m\u001b[43m)\u001b[49m\n\u001b[1;32m   1968\u001b[0m \u001b[38;5;28mself\u001b[39m\u001b[38;5;241m.\u001b[39m_atexit_cleanup(exit_code\u001b[38;5;241m=\u001b[39mexit_code)\n\u001b[1;32m   1969\u001b[0m \u001b[38;5;28;01mif\u001b[39;00m \u001b[38;5;28mself\u001b[39m\u001b[38;5;241m.\u001b[39m_wl \u001b[38;5;129;01mand\u001b[39;00m \u001b[38;5;28mlen\u001b[39m(\u001b[38;5;28mself\u001b[39m\u001b[38;5;241m.\u001b[39m_wl\u001b[38;5;241m.\u001b[39m_global_run_stack) \u001b[38;5;241m>\u001b[39m \u001b[38;5;241m0\u001b[39m:\n",
      "File \u001b[0;32m/srv/conda/envs/notebook/lib/python3.10/site-packages/wandb/sdk/wandb_init.py:460\u001b[0m, in \u001b[0;36m_WandbInit._jupyter_teardown\u001b[0;34m(self)\u001b[0m\n\u001b[1;32m    458\u001b[0m     \u001b[38;5;28;01mif\u001b[39;00m \u001b[38;5;124m\"\u001b[39m\u001b[38;5;124m_pause_backend\u001b[39m\u001b[38;5;124m\"\u001b[39m \u001b[38;5;129;01min\u001b[39;00m hook\u001b[38;5;241m.\u001b[39m\u001b[38;5;18m__name__\u001b[39m:\n\u001b[1;32m    459\u001b[0m         ipython\u001b[38;5;241m.\u001b[39mevents\u001b[38;5;241m.\u001b[39munregister(\u001b[38;5;124m\"\u001b[39m\u001b[38;5;124mpost_run_cell\u001b[39m\u001b[38;5;124m\"\u001b[39m, hook)\n\u001b[0;32m--> 460\u001b[0m ipython\u001b[38;5;241m.\u001b[39mdisplay_pub\u001b[38;5;241m.\u001b[39mpublish \u001b[38;5;241m=\u001b[39m \u001b[43mipython\u001b[49m\u001b[38;5;241;43m.\u001b[39;49m\u001b[43mdisplay_pub\u001b[49m\u001b[38;5;241;43m.\u001b[39;49m\u001b[43m_orig_publish\u001b[49m\n\u001b[1;32m    461\u001b[0m \u001b[38;5;28;01mdel\u001b[39;00m ipython\u001b[38;5;241m.\u001b[39mdisplay_pub\u001b[38;5;241m.\u001b[39m_orig_publish\n",
      "\u001b[0;31mAttributeError\u001b[0m: 'ZMQDisplayPublisher' object has no attribute '_orig_publish'"
     ]
    }
   ],
   "source": [
    "wandb.finish()"
   ]
  },
  {
   "cell_type": "code",
   "execution_count": null,
   "id": "d58fd4c5-37d5-410c-a2b5-c304ed954d6d",
   "metadata": {},
   "outputs": [],
   "source": []
  }
 ],
 "metadata": {
  "kernelspec": {
   "display_name": "Python 3 (ipykernel)",
   "language": "python",
   "name": "python3"
  },
  "language_info": {
   "codemirror_mode": {
    "name": "ipython",
    "version": 3
   },
   "file_extension": ".py",
   "mimetype": "text/x-python",
   "name": "python",
   "nbconvert_exporter": "python",
   "pygments_lexer": "ipython3",
   "version": "3.10.12"
  }
 },
 "nbformat": 4,
 "nbformat_minor": 5
}
