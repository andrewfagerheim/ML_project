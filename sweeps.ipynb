{
 "cells": [
  {
   "cell_type": "markdown",
   "id": "9ef85bf0-7449-41be-8ca1-eab76e44a7b6",
   "metadata": {},
   "source": [
    "# Sweep attempt"
   ]
  },
  {
   "cell_type": "code",
   "execution_count": 1,
   "id": "473fbf39-4c77-4273-a069-d6ae97bdeb9e",
   "metadata": {
    "tags": []
   },
   "outputs": [
    {
     "name": "stdout",
     "output_type": "stream",
     "text": [
      "Requirement already satisfied: wandb in /srv/conda/envs/notebook/lib/python3.10/site-packages (0.16.0)\n",
      "Requirement already satisfied: Click!=8.0.0,>=7.1 in /srv/conda/envs/notebook/lib/python3.10/site-packages (from wandb) (8.1.7)\n",
      "Requirement already satisfied: GitPython!=3.1.29,>=1.0.0 in /srv/conda/envs/notebook/lib/python3.10/site-packages (from wandb) (3.1.32)\n",
      "Requirement already satisfied: requests<3,>=2.0.0 in /srv/conda/envs/notebook/lib/python3.10/site-packages (from wandb) (2.31.0)\n",
      "Requirement already satisfied: psutil>=5.0.0 in /srv/conda/envs/notebook/lib/python3.10/site-packages (from wandb) (5.9.5)\n",
      "Requirement already satisfied: sentry-sdk>=1.0.0 in /srv/conda/envs/notebook/lib/python3.10/site-packages (from wandb) (1.38.0)\n",
      "Requirement already satisfied: docker-pycreds>=0.4.0 in /srv/conda/envs/notebook/lib/python3.10/site-packages (from wandb) (0.4.0)\n",
      "Requirement already satisfied: PyYAML in /srv/conda/envs/notebook/lib/python3.10/site-packages (from wandb) (5.4.1)\n",
      "Requirement already satisfied: setproctitle in /srv/conda/envs/notebook/lib/python3.10/site-packages (from wandb) (1.3.3)\n",
      "Requirement already satisfied: setuptools in /srv/conda/envs/notebook/lib/python3.10/site-packages (from wandb) (68.1.2)\n",
      "Requirement already satisfied: appdirs>=1.4.3 in /srv/conda/envs/notebook/lib/python3.10/site-packages (from wandb) (1.4.4)\n",
      "Requirement already satisfied: protobuf!=4.21.0,<5,>=3.19.0 in /srv/conda/envs/notebook/lib/python3.10/site-packages (from wandb) (4.21.12)\n",
      "Requirement already satisfied: six>=1.4.0 in /srv/conda/envs/notebook/lib/python3.10/site-packages (from docker-pycreds>=0.4.0->wandb) (1.16.0)\n",
      "Requirement already satisfied: gitdb<5,>=4.0.1 in /srv/conda/envs/notebook/lib/python3.10/site-packages (from GitPython!=3.1.29,>=1.0.0->wandb) (4.0.10)\n",
      "Requirement already satisfied: charset-normalizer<4,>=2 in /srv/conda/envs/notebook/lib/python3.10/site-packages (from requests<3,>=2.0.0->wandb) (3.2.0)\n",
      "Requirement already satisfied: idna<4,>=2.5 in /srv/conda/envs/notebook/lib/python3.10/site-packages (from requests<3,>=2.0.0->wandb) (3.4)\n",
      "Requirement already satisfied: urllib3<3,>=1.21.1 in /srv/conda/envs/notebook/lib/python3.10/site-packages (from requests<3,>=2.0.0->wandb) (1.26.15)\n",
      "Requirement already satisfied: certifi>=2017.4.17 in /srv/conda/envs/notebook/lib/python3.10/site-packages (from requests<3,>=2.0.0->wandb) (2023.7.22)\n",
      "Requirement already satisfied: smmap<6,>=3.0.1 in /srv/conda/envs/notebook/lib/python3.10/site-packages (from gitdb<5,>=4.0.1->GitPython!=3.1.29,>=1.0.0->wandb) (3.0.5)\n"
     ]
    }
   ],
   "source": [
    "!pip install wandb"
   ]
  },
  {
   "cell_type": "code",
   "execution_count": 2,
   "id": "c9010c46-acd7-4c2c-a875-33ea699af2c9",
   "metadata": {
    "tags": []
   },
   "outputs": [],
   "source": [
    "import wandb\n",
    "import numpy as np\n",
    "import sys\n",
    "import torch"
   ]
  },
  {
   "cell_type": "code",
   "execution_count": 4,
   "id": "b009b3fd-e01f-474d-8875-3ad25755a815",
   "metadata": {
    "tags": []
   },
   "outputs": [],
   "source": [
    "from funcs import regression_system\n",
    "from funcs import fcnn\n",
    "from funcs import dataset"
   ]
  },
  {
   "cell_type": "code",
   "execution_count": 3,
   "id": "6890228f-ebd2-40a7-be64-3229b0dc6647",
   "metadata": {
    "tags": []
   },
   "outputs": [
    {
     "name": "stderr",
     "output_type": "stream",
     "text": [
      "\u001b[34m\u001b[1mwandb\u001b[0m: Currently logged in as: \u001b[33mamf2288\u001b[0m (\u001b[33mfagerheim\u001b[0m). Use \u001b[1m`wandb login --relogin`\u001b[0m to force relogin\n"
     ]
    },
    {
     "data": {
      "text/plain": [
       "True"
      ]
     },
     "execution_count": 3,
     "metadata": {},
     "output_type": "execute_result"
    }
   ],
   "source": [
    "wandb.login()"
   ]
  },
  {
   "cell_type": "code",
   "execution_count": null,
   "id": "252ab451-9dec-4fb7-9c69-485e8286ea90",
   "metadata": {},
   "outputs": [],
   "source": [
    "sweep_config = {\n",
    "    'method': 'bayes',\n",
    "    'name': 'sweep',\n",
    "    'early_terminate':\n",
    "        'type':'hyperband',\n",
    "        'min_iter':3}"
   ]
  },
  {
   "cell_type": "code",
   "execution_count": null,
   "id": "166e0df2-5cf4-4d39-a449-ec8ecc3aed94",
   "metadata": {},
   "outputs": [],
   "source": [
    "metric = {\n",
    "    'name': 'loss',      #what's the name of loss here? it's definted in regression_system right?\n",
    "    'goal': 'minimize'}"
   ]
  },
  {
   "cell_type": "code",
   "execution_count": 6,
   "id": "118e837e-1cfe-4202-8f46-d9f6b1ced23c",
   "metadata": {
    "tags": []
   },
   "outputs": [],
   "source": [
    "'''seed=123\n",
    "batch_size=256\n",
    "input_channels=len(inputs)\n",
    "output_channels=1\n",
    "conv_layers = 2\n",
    "kernel = 5\n",
    "kernel_hidden = 3\n",
    "activation=\"ReLU\"\n",
    "arch=\"fcnn\"\n",
    "epochs=100\n",
    "save_path=BASE\n",
    "save_name=\"test-3.pt\"\n",
    "lr=0.0025\n",
    "wd=0.023133758465751404''';"
   ]
  },
  {
   "cell_type": "code",
   "execution_count": null,
   "id": "9a6d2ead-6764-4846-9f3b-73b4161bf57d",
   "metadata": {},
   "outputs": [],
   "source": [
    "parameters_dict ={\n",
    "    'batch_size': {\n",
    "        'values': [16,32,64,128,256,512,1024]},\n",
    "    'conv_layers': {\n",
    "        'values': [1,2,3,4,5]},\n",
    "    'kernal': {\n",
    "        'values': [2,3,4,5,6]}\n",
    "    'kernal_hidden': {\n",
    "        'values': [2,3,4,5,6]}\n",
    "    'activation': {\n",
    "        'values': ['ReLU', 'LeakyReLu', 'Tanh']}}"
   ]
  },
  {
   "cell_type": "code",
   "execution_count": null,
   "id": "aaf6e0be-6476-4ac8-a44c-a32e255fc78d",
   "metadata": {},
   "outputs": [],
   "source": [
    "parameters_dict.update({\n",
    "    'seed': {\n",
    "        'value': 123},\n",
    "    'epochs': {\n",
    "        'value': 100},\n",
    "    'input_channels': {\n",
    "        'value': len(inputs)},\n",
    "    'output_channels': {\n",
    "        'value': 1},\n",
    "    'arch': {\n",
    "        'value': 'fcnn'}})"
   ]
  },
  {
   "cell_type": "code",
   "execution_count": null,
   "id": "3f46401a-5716-4416-9158-18eafff4d1eb",
   "metadata": {},
   "outputs": [],
   "source": [
    "parameters_dict.update({\n",
    "    'learning_rate': {\n",
    "        'distribution': 'uniform',\n",
    "        'min': 0,\n",
    "        'max': 0.1}\n",
    "    'wd': {\n",
    "        'distribution': 'uniform',\n",
    "        'min': 0,\n",
    "        'max': 1}})"
   ]
  },
  {
   "cell_type": "code",
   "execution_count": null,
   "id": "b7f87403-e552-48c3-9423-b159ce4f5dad",
   "metadata": {},
   "outputs": [],
   "source": [
    "sweep_id = wandb.sweep(sweep_config, project = 'first_sweep')"
   ]
  },
  {
   "cell_type": "code",
   "execution_count": null,
   "id": "9fbbca31-f681-450c-8d13-6a81f4d7ac46",
   "metadata": {},
   "outputs": [],
   "source": [
    "wandb.agent(sweep_id)"
   ]
  }
 ],
 "metadata": {
  "kernelspec": {
   "display_name": "Python 3 (ipykernel)",
   "language": "python",
   "name": "python3"
  },
  "language_info": {
   "codemirror_mode": {
    "name": "ipython",
    "version": 3
   },
   "file_extension": ".py",
   "mimetype": "text/x-python",
   "name": "python",
   "nbconvert_exporter": "python",
   "pygments_lexer": "ipython3",
   "version": "3.10.12"
  }
 },
 "nbformat": 4,
 "nbformat_minor": 5
}
