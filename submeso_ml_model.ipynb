{
 "cells": [
  {
   "cell_type": "markdown",
   "id": "ed832466-92cb-4927-8029-dfd61c58c8ce",
   "metadata": {},
   "source": [
    "This notebook should predict WB_sg from 9 input features.\n",
    "\n",
    "Andrew Fagerheim and Bernard Wang"
   ]
  },
  {
   "cell_type": "code",
   "execution_count": 18,
   "id": "588392de-fe84-4935-985d-bf5f9c4ec4a3",
   "metadata": {
    "tags": []
   },
   "outputs": [
    {
     "name": "stdout",
     "output_type": "stream",
     "text": [
      "The autoreload extension is already loaded. To reload it, use:\n",
      "  %reload_ext autoreload\n"
     ]
    }
   ],
   "source": [
    "import os\n",
    "import numpy as np\n",
    "import random\n",
    "import pandas as pd\n",
    "import matplotlib.pyplot as plt\n",
    "import xarray as xr\n",
    "from glob import glob\n",
    "\n",
    "import tensorflow as tf\n",
    "from tensorflow import keras\n",
    "from tensorflow.keras.models import Model, load_model\n",
    "from tensorflow.keras.layers import *\n",
    "from tensorflow.keras import Sequential\n",
    "from tensorflow.keras.regularizers import l1_l2\n",
    "from utils import * \n",
    "\n",
    "%matplotlib inline\n",
    "%config InlineBackend.figure_format = 'retina'\n",
    "%load_ext autoreload\n",
    "%autoreload 2\n",
    "\n",
    "plt.rcParams['savefig.dpi'] = 400\n",
    "plt.rcParams['font.size'] = 13\n",
    "plt.rcParams[\"legend.frameon\"] = False"
   ]
  },
  {
   "cell_type": "code",
   "execution_count": 2,
   "id": "a387ca71-d927-4859-9253-540cedda9032",
   "metadata": {
    "tags": []
   },
   "outputs": [],
   "source": [
    "cwd = os.getcwd()\n",
    "input_features = ['grad_B','FCOR', 'HML', 'TAU', 'Q', 'HBL', 'div', 'vort', 'strain']\n",
    "output_feature = 'WB_sg'"
   ]
  },
  {
   "cell_type": "markdown",
   "id": "34d09d98-c320-42ec-8faa-601ed866fdb4",
   "metadata": {
    "tags": []
   },
   "source": [
    "# Things about the data we are learning:\n",
    "- There are 9 input features, 1 output feature. len(input_features) = 9\n",
    "- it looks like there are 12 locations, each with 846 time ticks.\n",
    "- len(yo)/846 = 12.0\n",
    "- so, 0-845 is one location. Then 846-846+845 is another location.\n",
    "- Seems like there are two roughly two time ticks per day. 2/day makes sense? idk ask\n",
    "- They are 40 by 40 latitude and longitude boxes, by the way.\n",
    "- would it be helpful to have the actual latitude and longitudes? or does it not matter? i'm cool with not having em..\n",
    "  - but, we want to weight our data, no?? without lat, we don't weight our data properly......\n",
    "- Looks like the data runs from like mid October one year to mid October the next. why? no clue. \n",
    "- does the model run on all the locations? or just one location? where does self.loc come in? is it ever set to just one location when the model runs?\n",
    "- the CNN/NN example notebooks use CO2 and CH4, which only have one value per time tick, rather than one for each lat/lon pair. So, they are 1-D time series rather than 3-D time series. Very interesting."
   ]
  },
  {
   "cell_type": "code",
   "execution_count": 3,
   "id": "fe4b3df6-0177-44d2-91fa-5416a139d663",
   "metadata": {
    "tags": []
   },
   "outputs": [],
   "source": [
    "#yo = np.load('data/Q.npy')\n",
    "#plt.contourf(yo[846+845, :, :])\n",
    "#plt.contourf(yo[846*2, :, :])"
   ]
  },
  {
   "cell_type": "markdown",
   "id": "574f6e53-1134-4619-a1ba-56de096d5454",
   "metadata": {},
   "source": [
    "# We are going to work with just one location (40x40) for now. So, the first 846 indices of the data.\n",
    "### Eventually gotta figure out how this model works.. with all 12 locations. for now we just use one."
   ]
  },
  {
   "cell_type": "markdown",
   "id": "e747d3fe-4154-4cf1-8fa3-364ce1eed34c",
   "metadata": {},
   "source": [
    "#### Load Input"
   ]
  },
  {
   "cell_type": "code",
   "execution_count": 3,
   "id": "d9021c73-aeea-4c75-a29e-d5cab9ee9d8c",
   "metadata": {
    "tags": []
   },
   "outputs": [],
   "source": [
    "# load input. (We gonna just look at one location for now, so the first 846 indices)\n",
    "\n",
    "# 1. Create xarray dataset, populate it with the numpy files but turn them into dataarrays.\n",
    "X_train_xr = xr.Dataset()\n",
    "for input_feature in input_features:\n",
    "    var = np.load('data/%s.npy' % input_feature)[:846]\n",
    "    var_xr = xr.DataArray(var, coords={'time': np.arange(0, len(var)),'lat': np.arange(0, 40),'lon': np.arange(0, 40)}, dims=[\"time\", \"lat\", \"lon\"])\n",
    "    X_train_xr[input_feature] = var_xr\n",
    "# X_train_xr is created, which is a Dataset that has all of the input variables time series. It has a lat/lon component though, I hope that is ok?"
   ]
  },
  {
   "cell_type": "code",
   "execution_count": 4,
   "id": "265912aa-9a88-4634-a911-d569ba611fc3",
   "metadata": {
    "tags": []
   },
   "outputs": [
    {
     "data": {
      "text/html": [
       "<div>\n",
       "<style scoped>\n",
       "    .dataframe tbody tr th:only-of-type {\n",
       "        vertical-align: middle;\n",
       "    }\n",
       "\n",
       "    .dataframe tbody tr th {\n",
       "        vertical-align: top;\n",
       "    }\n",
       "\n",
       "    .dataframe thead th {\n",
       "        text-align: right;\n",
       "    }\n",
       "</style>\n",
       "<table border=\"1\" class=\"dataframe\">\n",
       "  <thead>\n",
       "    <tr style=\"text-align: right;\">\n",
       "      <th></th>\n",
       "      <th>grad_B</th>\n",
       "      <th>FCOR</th>\n",
       "      <th>HML</th>\n",
       "      <th>TAU</th>\n",
       "      <th>Q</th>\n",
       "      <th>HBL</th>\n",
       "      <th>div</th>\n",
       "      <th>vort</th>\n",
       "      <th>strain</th>\n",
       "    </tr>\n",
       "  </thead>\n",
       "  <tbody>\n",
       "    <tr>\n",
       "      <th>0</th>\n",
       "      <td>1.696983e-08</td>\n",
       "      <td>0.000012</td>\n",
       "      <td>-65.626640</td>\n",
       "      <td>0.066126</td>\n",
       "      <td>-75.480782</td>\n",
       "      <td>41.129562</td>\n",
       "      <td>-2.012549e-08</td>\n",
       "      <td>-5.445170e-07</td>\n",
       "      <td>0.000003</td>\n",
       "    </tr>\n",
       "    <tr>\n",
       "      <th>1</th>\n",
       "      <td>1.703827e-08</td>\n",
       "      <td>0.000012</td>\n",
       "      <td>-64.006508</td>\n",
       "      <td>0.062027</td>\n",
       "      <td>-78.757126</td>\n",
       "      <td>40.013718</td>\n",
       "      <td>-8.870204e-09</td>\n",
       "      <td>-5.474857e-07</td>\n",
       "      <td>0.000004</td>\n",
       "    </tr>\n",
       "    <tr>\n",
       "      <th>2</th>\n",
       "      <td>1.712170e-08</td>\n",
       "      <td>0.000012</td>\n",
       "      <td>-62.030067</td>\n",
       "      <td>0.056741</td>\n",
       "      <td>-81.845100</td>\n",
       "      <td>37.033009</td>\n",
       "      <td>-1.127527e-09</td>\n",
       "      <td>-5.442436e-07</td>\n",
       "      <td>0.000004</td>\n",
       "    </tr>\n",
       "    <tr>\n",
       "      <th>3</th>\n",
       "      <td>1.721165e-08</td>\n",
       "      <td>0.000012</td>\n",
       "      <td>-60.149670</td>\n",
       "      <td>0.051667</td>\n",
       "      <td>-86.461914</td>\n",
       "      <td>35.240181</td>\n",
       "      <td>8.901670e-09</td>\n",
       "      <td>-5.348286e-07</td>\n",
       "      <td>0.000004</td>\n",
       "    </tr>\n",
       "    <tr>\n",
       "      <th>4</th>\n",
       "      <td>1.726613e-08</td>\n",
       "      <td>0.000012</td>\n",
       "      <td>-57.631203</td>\n",
       "      <td>0.047175</td>\n",
       "      <td>-88.721039</td>\n",
       "      <td>31.287781</td>\n",
       "      <td>1.145182e-08</td>\n",
       "      <td>-5.256584e-07</td>\n",
       "      <td>0.000004</td>\n",
       "    </tr>\n",
       "  </tbody>\n",
       "</table>\n",
       "</div>"
      ],
      "text/plain": [
       "         grad_B      FCOR        HML       TAU          Q        HBL  \\\n",
       "0  1.696983e-08  0.000012 -65.626640  0.066126 -75.480782  41.129562   \n",
       "1  1.703827e-08  0.000012 -64.006508  0.062027 -78.757126  40.013718   \n",
       "2  1.712170e-08  0.000012 -62.030067  0.056741 -81.845100  37.033009   \n",
       "3  1.721165e-08  0.000012 -60.149670  0.051667 -86.461914  35.240181   \n",
       "4  1.726613e-08  0.000012 -57.631203  0.047175 -88.721039  31.287781   \n",
       "\n",
       "            div          vort    strain  \n",
       "0 -2.012549e-08 -5.445170e-07  0.000003  \n",
       "1 -8.870204e-09 -5.474857e-07  0.000004  \n",
       "2 -1.127527e-09 -5.442436e-07  0.000004  \n",
       "3  8.901670e-09 -5.348286e-07  0.000004  \n",
       "4  1.145182e-08 -5.256584e-07  0.000004  "
      ]
     },
     "execution_count": 4,
     "metadata": {},
     "output_type": "execute_result"
    }
   ],
   "source": [
    "# 2. Build the dataframe, by going through each input feature and adding its timeseries.\n",
    "vars = {}\n",
    "for input_feature in input_features:\n",
    "    vars[input_feature] = X_train_xr[input_feature].mean(dim=['lat','lon'])\n",
    "    \n",
    "X_train_df = pd.DataFrame(vars, index=X_train_xr[\"grad_B\"].coords['time'].data)\n",
    "X_train_df.head()\n",
    "# NOTE: we are taking the mean for now, because the input variables still have lat/lon properties. maybe we treat it like the output????"
   ]
  },
  {
   "cell_type": "markdown",
   "id": "5f2dca42-509d-4e03-b1b3-d1632529659d",
   "metadata": {},
   "source": [
    "#### Load Output"
   ]
  },
  {
   "cell_type": "code",
   "execution_count": 5,
   "id": "3c5c56d8-8d8a-4647-bbbb-734277bf4f26",
   "metadata": {
    "tags": []
   },
   "outputs": [],
   "source": [
    "# 1. load WB_sg numpy file from data.\n",
    "WB_sg = np.load('data/WB_sg.npy')[:846]\n",
    "# 2. turn the data into an xarray dataarray\n",
    "WB_sg_xr = xr.DataArray(WB_sg, coords={'time': np.arange(0, len(WB_sg)),'lat': np.arange(0, 40),'lon': np.arange(0, 40)}, dims=[\"time\", \"lat\", \"lon\"])\n",
    "y_train = WB_sg_xr.data\n",
    "\n",
    "# note: need to figure out what the test data should be here... check w the repo.\n",
    "\n",
    "# FOR NN's btw:\n",
    "# y_train_df = WB_sg_xr.stack(dim=[\"lat\", \"lon\"])\n",
    "# y_train_df = pd.DataFrame(y_train_df.to_pandas())\n",
    "# y_train_df.head()"
   ]
  },
  {
   "cell_type": "code",
   "execution_count": 6,
   "id": "e644f4c8-5716-4635-9b66-4755591fc874",
   "metadata": {
    "tags": []
   },
   "outputs": [
    {
     "name": "stdout",
     "output_type": "stream",
     "text": [
      "(846, 9) (846, 40, 40)\n"
     ]
    }
   ],
   "source": [
    "# Data normalization\n",
    "mean, std = X_train_df.mean(), X_train_df.std()\n",
    "\n",
    "X_train_df_norm   = (X_train_df - mean)/std\n",
    "#X_test_df    = (X_test_df - mean)/std\n",
    "\n",
    "X_train = X_train_df_norm.to_numpy()\n",
    "#X_test = X_test_df.to_numpy()\n",
    "\n",
    "print(X_train.shape,y_train.shape)\n",
    "#print(X_train.shape,y_train.shape,X_test.shape,y_test.shape)"
   ]
  },
  {
   "cell_type": "code",
   "execution_count": 9,
   "id": "04e83041-4e03-4882-a5e8-06078b5b066a",
   "metadata": {
    "tags": []
   },
   "outputs": [
    {
     "data": {
      "text/plain": [
       "<matplotlib.colorbar.Colorbar at 0x7f8bbb7ee710>"
      ]
     },
     "execution_count": 9,
     "metadata": {},
     "output_type": "execute_result"
    },
    {
     "data": {
      "image/png": "[encoded data removed]",
      "text/plain": [
       "<Figure size 640x480 with 2 Axes>"
      ]
     },
     "metadata": {
      "image/png": {
       "height": 433,
       "width": 504
      }
     },
     "output_type": "display_data"
    }
   ],
   "source": [
    "plt.imshow(np.flip(y_train[0],axis=0),cmap='RdBu_r')\n",
    "plt.colorbar()"
   ]
  },
  {
   "cell_type": "markdown",
   "id": "d19d991c-1165-48f1-be54-5f9827c0d25e",
   "metadata": {},
   "source": [
    "## Define CNN Structure"
   ]
  },
  {
   "cell_type": "code",
   "execution_count": 10,
   "id": "a408b474-dfb9-4f44-82c8-943f730aeaa4",
   "metadata": {
    "tags": []
   },
   "outputs": [],
   "source": [
    "n_filters  = 32  # number of filters\n",
    "n_neurons  = 32  # number of neurons in the Dense layer\n",
    "activation     = 'relu' # activation function\n",
    "kernel_size    = 4\n",
    "learning_rate  = 0.001\n",
    "minibatch_size = 64\n",
    "num_epochs     = 100"
   ]
  },
  {
   "cell_type": "code",
   "execution_count": 11,
   "id": "af4e568e-cd69-4896-bc09-8f1c21431605",
   "metadata": {
    "tags": []
   },
   "outputs": [],
   "source": [
    "### model using MSE as loss function\n",
    "model_mse = Sequential()\n",
    "\n",
    "model_mse.add(Dense(n_filters*12*18, input_shape=(X_train.shape[1],), activation=activation)) # shape: (6912,1)"
   ]
  },
  {
   "cell_type": "code",
   "execution_count": 12,
   "id": "378a1b82-b6ea-4d32-a706-8e29a4966436",
   "metadata": {
    "tags": []
   },
   "outputs": [
    {
     "name": "stdout",
     "output_type": "stream",
     "text": [
      "Model: \"sequential_1\"\n",
      "_________________________________________________________________\n",
      " Layer (type)                Output Shape              Param #   \n",
      "=================================================================\n",
      " dense_1 (Dense)             (None, 800)               8000      \n",
      "                                                                 \n",
      " reshape (Reshape)           (None, 5, 5, 32)          0         \n",
      "                                                                 \n",
      " conv2d_transpose (Conv2DTra  (None, 10, 10, 32)       16416     \n",
      " nspose)                                                         \n",
      "                                                                 \n",
      " conv2d_transpose_1 (Conv2DT  (None, 20, 20, 32)       16416     \n",
      " ranspose)                                                       \n",
      "                                                                 \n",
      " conv2d_transpose_2 (Conv2DT  (None, 40, 40, 32)       16416     \n",
      " ranspose)                                                       \n",
      "                                                                 \n",
      " conv2d_transpose_3 (Conv2DT  (None, 40, 40, 1)        513       \n",
      " ranspose)                                                       \n",
      "                                                                 \n",
      "=================================================================\n",
      "Total params: 57,761\n",
      "Trainable params: 57,761\n",
      "Non-trainable params: 0\n",
      "_________________________________________________________________\n"
     ]
    }
   ],
   "source": [
    "### model using MSE as loss function\n",
    "model_mse = Sequential()\n",
    "\n",
    "model_mse.add(Dense(n_filters*5*5, input_shape=(X_train.shape[1],), activation=activation)) # shape: (6912,1)\n",
    "model_mse.add(Reshape((5,5,n_filters))) # shape: (5,5,32)\n",
    "\n",
    "# Upsample to 10x10\n",
    "model_mse.add(Conv2DTranspose(filters=n_filters, kernel_size=kernel_size, \n",
    "                          activation=activation, strides=2, padding='same')) # shape: (10,10,32)\n",
    "\n",
    "# Upsample to 20x20\n",
    "model_mse.add(Conv2DTranspose(filters=n_filters, kernel_size=kernel_size, \n",
    "                          activation=activation, strides=2, padding='same')) # shape: (20,20,32)\n",
    "\n",
    "# Upsample to 40x40\n",
    "model_mse.add(Conv2DTranspose(filters=n_filters, kernel_size=kernel_size, \n",
    "                          activation=activation, strides=2, padding='same')) # shape: (40,40,32)\n",
    "\n",
    "model_mse.add(Conv2DTranspose(filters=1, kernel_size=kernel_size, activation=\"linear\", padding=\"same\")) # shape: (96,144,1)\n",
    "\n",
    "\n",
    "model_mse.summary()\n",
    "model_mse.compile(loss='mse',optimizer=tf.keras.optimizers.Adam(learning_rate=learning_rate))\n"
   ]
  },
  {
   "cell_type": "markdown",
   "id": "daf47a85-1ffd-402b-a2da-e42e581ce712",
   "metadata": {},
   "source": [
    "## Train da model"
   ]
  },
  {
   "cell_type": "code",
   "execution_count": 13,
   "id": "4d021408-94b2-4ef4-8e7f-a7e5c5ff5fe3",
   "metadata": {
    "scrolled": true,
    "tags": []
   },
   "outputs": [
    {
     "name": "stdout",
     "output_type": "stream",
     "text": [
      "Epoch 1/100\n",
      "11/11 [==============================] - 3s 201ms/step - loss: 1.2720e-05 - val_loss: 4.2162e-07\n",
      "Epoch 2/100\n",
      "11/11 [==============================] - 2s 213ms/step - loss: 3.6276e-07 - val_loss: 1.1722e-08\n",
      "Epoch 3/100\n",
      "11/11 [==============================] - 2s 162ms/step - loss: 6.8057e-08 - val_loss: 2.1158e-09\n",
      "Epoch 4/100\n",
      "11/11 [==============================] - 2s 161ms/step - loss: 2.2178e-08 - val_loss: 3.6167e-09\n",
      "Epoch 5/100\n",
      "11/11 [==============================] - 2s 170ms/step - loss: 8.9350e-09 - val_loss: 4.5822e-09\n",
      "Epoch 6/100\n",
      "11/11 [==============================] - 2s 170ms/step - loss: 4.3604e-09 - val_loss: 2.9165e-09\n",
      "Epoch 7/100\n",
      "11/11 [==============================] - 2s 161ms/step - loss: 2.4514e-09 - val_loss: 7.7924e-10\n",
      "Epoch 8/100\n",
      "11/11 [==============================] - 2s 169ms/step - loss: 1.6722e-09 - val_loss: 4.7727e-10\n",
      "Epoch 9/100\n",
      "11/11 [==============================] - 2s 162ms/step - loss: 1.4745e-09 - val_loss: 5.1769e-10\n",
      "Epoch 10/100\n",
      "11/11 [==============================] - 2s 161ms/step - loss: 1.3507e-09 - val_loss: 4.1045e-10\n",
      "Epoch 11/100\n",
      "11/11 [==============================] - 2s 161ms/step - loss: 1.2660e-09 - val_loss: 3.9210e-10\n",
      "Epoch 12/100\n",
      "11/11 [==============================] - 2s 163ms/step - loss: 1.1992e-09 - val_loss: 3.6957e-10\n",
      "Epoch 13/100\n",
      "11/11 [==============================] - 2s 160ms/step - loss: 1.1392e-09 - val_loss: 3.4994e-10\n",
      "Epoch 14/100\n",
      "11/11 [==============================] - 2s 170ms/step - loss: 1.0837e-09 - val_loss: 3.2880e-10\n",
      "Epoch 15/100\n",
      "11/11 [==============================] - 2s 170ms/step - loss: 1.0292e-09 - val_loss: 3.1126e-10\n",
      "Epoch 16/100\n",
      "11/11 [==============================] - 2s 152ms/step - loss: 9.7783e-10 - val_loss: 2.9596e-10\n",
      "Epoch 17/100\n",
      "11/11 [==============================] - 2s 161ms/step - loss: 9.3124e-10 - val_loss: 2.8076e-10\n",
      "Epoch 18/100\n",
      "11/11 [==============================] - 2s 170ms/step - loss: 8.8576e-10 - val_loss: 2.6489e-10\n",
      "Epoch 19/100\n",
      "11/11 [==============================] - 2s 161ms/step - loss: 8.4327e-10 - val_loss: 2.5058e-10\n",
      "Epoch 20/100\n",
      "11/11 [==============================] - 2s 162ms/step - loss: 8.0146e-10 - val_loss: 2.3758e-10\n",
      "Epoch 21/100\n",
      "11/11 [==============================] - 2s 161ms/step - loss: 7.6397e-10 - val_loss: 2.2519e-10\n",
      "Epoch 22/100\n",
      "11/11 [==============================] - 2s 161ms/step - loss: 7.2644e-10 - val_loss: 2.1415e-10\n",
      "Epoch 23/100\n",
      "11/11 [==============================] - 2s 162ms/step - loss: 6.9231e-10 - val_loss: 2.0397e-10\n",
      "Epoch 24/100\n",
      "11/11 [==============================] - 2s 162ms/step - loss: 6.6037e-10 - val_loss: 1.9388e-10\n",
      "Epoch 25/100\n",
      "11/11 [==============================] - 2s 160ms/step - loss: 6.3018e-10 - val_loss: 1.8427e-10\n",
      "Epoch 26/100\n",
      "11/11 [==============================] - 2s 170ms/step - loss: 6.0102e-10 - val_loss: 1.7536e-10\n",
      "Epoch 27/100\n",
      "11/11 [==============================] - 2s 171ms/step - loss: 5.7517e-10 - val_loss: 1.6673e-10\n",
      "Epoch 28/100\n",
      "11/11 [==============================] - 2s 161ms/step - loss: 5.4840e-10 - val_loss: 1.5877e-10\n",
      "Epoch 29/100\n",
      "11/11 [==============================] - 2s 169ms/step - loss: 5.2499e-10 - val_loss: 1.5101e-10\n",
      "Epoch 30/100\n",
      "11/11 [==============================] - 2s 162ms/step - loss: 5.0244e-10 - val_loss: 1.4388e-10\n",
      "Epoch 31/100\n",
      "11/11 [==============================] - 2s 161ms/step - loss: 4.8066e-10 - val_loss: 1.3747e-10\n",
      "Epoch 32/100\n",
      "11/11 [==============================] - 2s 168ms/step - loss: 4.5969e-10 - val_loss: 1.3186e-10\n",
      "Epoch 33/100\n",
      "11/11 [==============================] - 2s 170ms/step - loss: 4.4127e-10 - val_loss: 1.2562e-10\n",
      "Epoch 34/100\n",
      "11/11 [==============================] - 2s 161ms/step - loss: 4.2287e-10 - val_loss: 1.1967e-10\n",
      "Epoch 35/100\n",
      "11/11 [==============================] - 2s 170ms/step - loss: 4.0476e-10 - val_loss: 1.1445e-10\n",
      "Epoch 36/100\n",
      "11/11 [==============================] - 2s 170ms/step - loss: 3.8840e-10 - val_loss: 1.0970e-10\n",
      "Epoch 37/100\n",
      "11/11 [==============================] - 2s 200ms/step - loss: 3.7291e-10 - val_loss: 1.0533e-10\n",
      "Epoch 38/100\n",
      "11/11 [==============================] - 2s 192ms/step - loss: 3.5895e-10 - val_loss: 1.0102e-10\n",
      "Epoch 39/100\n",
      "11/11 [==============================] - 2s 161ms/step - loss: 3.4502e-10 - val_loss: 9.7079e-11\n",
      "Epoch 40/100\n",
      "11/11 [==============================] - 2s 161ms/step - loss: 3.3226e-10 - val_loss: 9.3194e-11\n",
      "Epoch 41/100\n",
      "11/11 [==============================] - 2s 171ms/step - loss: 3.1976e-10 - val_loss: 8.9660e-11\n",
      "Epoch 42/100\n",
      "11/11 [==============================] - 2s 171ms/step - loss: 3.0855e-10 - val_loss: 8.6163e-11\n",
      "Epoch 43/100\n",
      "11/11 [==============================] - 2s 160ms/step - loss: 2.9673e-10 - val_loss: 8.3017e-11\n",
      "Epoch 44/100\n",
      "11/11 [==============================] - 2s 170ms/step - loss: 2.8652e-10 - val_loss: 7.9934e-11\n",
      "Epoch 45/100\n",
      "11/11 [==============================] - 2s 162ms/step - loss: 2.7597e-10 - val_loss: 7.7171e-11\n",
      "Epoch 46/100\n",
      "11/11 [==============================] - 2s 161ms/step - loss: 2.6694e-10 - val_loss: 7.4319e-11\n",
      "Epoch 47/100\n",
      "11/11 [==============================] - 2s 161ms/step - loss: 2.5756e-10 - val_loss: 7.1737e-11\n",
      "Epoch 48/100\n",
      "11/11 [==============================] - 2s 170ms/step - loss: 2.4898e-10 - val_loss: 6.9282e-11\n",
      "Epoch 49/100\n",
      "11/11 [==============================] - 2s 159ms/step - loss: 2.4073e-10 - val_loss: 6.6905e-11\n",
      "Epoch 50/100\n",
      "11/11 [==============================] - 2s 162ms/step - loss: 2.3245e-10 - val_loss: 6.4639e-11\n",
      "Epoch 51/100\n",
      "11/11 [==============================] - 2s 161ms/step - loss: 2.2425e-10 - val_loss: 6.2642e-11\n",
      "Epoch 52/100\n",
      "11/11 [==============================] - 2s 162ms/step - loss: 2.1737e-10 - val_loss: 6.0382e-11\n",
      "Epoch 53/100\n",
      "11/11 [==============================] - 2s 161ms/step - loss: 2.1020e-10 - val_loss: 5.8405e-11\n",
      "Epoch 54/100\n",
      "11/11 [==============================] - 2s 161ms/step - loss: 2.0363e-10 - val_loss: 5.6542e-11\n",
      "Epoch 55/100\n",
      "11/11 [==============================] - 2s 161ms/step - loss: 1.9719e-10 - val_loss: 5.4853e-11\n",
      "Epoch 56/100\n",
      "11/11 [==============================] - 2s 170ms/step - loss: 1.9121e-10 - val_loss: 5.3130e-11\n",
      "Epoch 57/100\n",
      "11/11 [==============================] - 2s 168ms/step - loss: 1.8557e-10 - val_loss: 5.1507e-11\n",
      "Epoch 58/100\n",
      "11/11 [==============================] - 2s 169ms/step - loss: 1.7968e-10 - val_loss: 5.0030e-11\n",
      "Epoch 59/100\n",
      "11/11 [==============================] - 2s 169ms/step - loss: 1.7453e-10 - val_loss: 4.8525e-11\n",
      "Epoch 60/100\n",
      "11/11 [==============================] - 2s 170ms/step - loss: 1.6952e-10 - val_loss: 4.7066e-11\n",
      "Epoch 61/100\n",
      "11/11 [==============================] - 2s 169ms/step - loss: 1.6450e-10 - val_loss: 4.5695e-11\n",
      "Epoch 62/100\n",
      "11/11 [==============================] - 2s 161ms/step - loss: 1.5951e-10 - val_loss: 4.4477e-11\n",
      "Epoch 63/100\n",
      "11/11 [==============================] - 2s 163ms/step - loss: 1.5517e-10 - val_loss: 4.3064e-11\n",
      "Epoch 64/100\n",
      "11/11 [==============================] - 2s 162ms/step - loss: 1.5065e-10 - val_loss: 4.1860e-11\n",
      "Epoch 65/100\n",
      "11/11 [==============================] - 2s 162ms/step - loss: 1.4651e-10 - val_loss: 4.0708e-11\n",
      "Epoch 66/100\n",
      "11/11 [==============================] - 2s 162ms/step - loss: 1.4244e-10 - val_loss: 3.9529e-11\n",
      "Epoch 67/100\n",
      "11/11 [==============================] - 2s 162ms/step - loss: 1.3859e-10 - val_loss: 3.8433e-11\n",
      "Epoch 68/100\n",
      "11/11 [==============================] - 2s 160ms/step - loss: 1.3487e-10 - val_loss: 3.7371e-11\n",
      "Epoch 69/100\n",
      "11/11 [==============================] - 2s 169ms/step - loss: 1.3101e-10 - val_loss: 3.6428e-11\n",
      "Epoch 70/100\n",
      "11/11 [==============================] - 2s 169ms/step - loss: 1.2781e-10 - val_loss: 3.5408e-11\n",
      "Epoch 71/100\n",
      "11/11 [==============================] - 2s 190ms/step - loss: 1.2454e-10 - val_loss: 3.4476e-11\n",
      "Epoch 72/100\n",
      "11/11 [==============================] - 2s 178ms/step - loss: 1.2102e-10 - val_loss: 3.3572e-11\n",
      "Epoch 73/100\n",
      "11/11 [==============================] - 2s 200ms/step - loss: 1.1799e-10 - val_loss: 3.2702e-11\n",
      "Epoch 74/100\n",
      "11/11 [==============================] - 2s 190ms/step - loss: 1.1512e-10 - val_loss: 3.1821e-11\n",
      "Epoch 75/100\n",
      "11/11 [==============================] - 2s 161ms/step - loss: 1.1209e-10 - val_loss: 3.1018e-11\n",
      "Epoch 76/100\n",
      "11/11 [==============================] - 2s 160ms/step - loss: 1.0927e-10 - val_loss: 3.0300e-11\n",
      "Epoch 77/100\n",
      "11/11 [==============================] - 2s 171ms/step - loss: 1.0658e-10 - val_loss: 2.9512e-11\n",
      "Epoch 78/100\n",
      "11/11 [==============================] - 2s 161ms/step - loss: 1.0393e-10 - val_loss: 2.8788e-11\n",
      "Epoch 79/100\n",
      "11/11 [==============================] - 2s 161ms/step - loss: 1.0147e-10 - val_loss: 2.8076e-11\n",
      "Epoch 80/100\n",
      "11/11 [==============================] - 2s 179ms/step - loss: 9.9104e-11 - val_loss: 2.7380e-11\n",
      "Epoch 81/100\n",
      "11/11 [==============================] - 2s 161ms/step - loss: 9.6642e-11 - val_loss: 2.6732e-11\n",
      "Epoch 82/100\n",
      "11/11 [==============================] - 2s 160ms/step - loss: 9.4346e-11 - val_loss: 2.6101e-11\n",
      "Epoch 83/100\n",
      "11/11 [==============================] - 2s 180ms/step - loss: 9.2019e-11 - val_loss: 2.5510e-11\n",
      "Epoch 84/100\n",
      "11/11 [==============================] - 2s 161ms/step - loss: 8.9913e-11 - val_loss: 2.4914e-11\n",
      "Epoch 85/100\n",
      "11/11 [==============================] - 2s 162ms/step - loss: 8.7846e-11 - val_loss: 2.4310e-11\n",
      "Epoch 86/100\n",
      "11/11 [==============================] - 2s 182ms/step - loss: 8.5723e-11 - val_loss: 2.3755e-11\n",
      "Epoch 87/100\n",
      "11/11 [==============================] - 2s 161ms/step - loss: 8.3689e-11 - val_loss: 2.3202e-11\n",
      "Epoch 88/100\n",
      "11/11 [==============================] - 2s 160ms/step - loss: 8.1776e-11 - val_loss: 2.2672e-11\n",
      "Epoch 89/100\n",
      "11/11 [==============================] - 2s 170ms/step - loss: 7.9981e-11 - val_loss: 2.2149e-11\n",
      "Epoch 90/100\n",
      "11/11 [==============================] - 2s 169ms/step - loss: 7.8150e-11 - val_loss: 2.1657e-11\n",
      "Epoch 91/100\n",
      "11/11 [==============================] - 2s 160ms/step - loss: 7.6352e-11 - val_loss: 2.1174e-11\n",
      "Epoch 92/100\n",
      "11/11 [==============================] - 2s 171ms/step - loss: 7.4693e-11 - val_loss: 2.0692e-11\n",
      "Epoch 93/100\n",
      "11/11 [==============================] - 2s 169ms/step - loss: 7.2995e-11 - val_loss: 2.0253e-11\n",
      "Epoch 94/100\n",
      "11/11 [==============================] - 2s 160ms/step - loss: 7.1381e-11 - val_loss: 1.9799e-11\n",
      "Epoch 95/100\n",
      "11/11 [==============================] - 2s 179ms/step - loss: 6.9827e-11 - val_loss: 1.9385e-11\n",
      "Epoch 96/100\n",
      "11/11 [==============================] - 2s 169ms/step - loss: 6.8355e-11 - val_loss: 1.8947e-11\n",
      "Epoch 97/100\n",
      "11/11 [==============================] - 2s 161ms/step - loss: 6.6884e-11 - val_loss: 1.8557e-11\n",
      "Epoch 98/100\n",
      "11/11 [==============================] - 2s 179ms/step - loss: 6.5410e-11 - val_loss: 1.8146e-11\n",
      "Epoch 99/100\n",
      "11/11 [==============================] - 2s 161ms/step - loss: 6.4067e-11 - val_loss: 1.7792e-11\n",
      "Epoch 100/100\n",
      "11/11 [==============================] - 2s 161ms/step - loss: 6.2725e-11 - val_loss: 1.7403e-11\n"
     ]
    }
   ],
   "source": [
    "early_stop = keras.callbacks.EarlyStopping(monitor='val_loss', patience=20)\n",
    "\n",
    "###------------mse------------\n",
    "history_mse = model_mse.fit(X_train, y_train, \n",
    "                    batch_size      = minibatch_size,\n",
    "                    epochs          = num_epochs,\n",
    "                    validation_split= 0.2, \n",
    "                    verbose         = 1,\n",
    "                    callbacks       = [early_stop])"
   ]
  },
  {
   "cell_type": "code",
   "execution_count": 14,
   "id": "27bd1436-3492-497f-afb2-abc893876b55",
   "metadata": {
    "tags": []
   },
   "outputs": [
    {
     "data": {
      "image/png": "[encoded data removed]",
      "text/plain": [
       "<Figure size 640x480 with 1 Axes>"
      ]
     },
     "metadata": {
      "image/png": {
       "height": 456,
       "width": 577
      }
     },
     "output_type": "display_data"
    }
   ],
   "source": [
    "plot_history(history_mse)"
   ]
  },
  {
   "cell_type": "code",
   "execution_count": 17,
   "id": "5b56cbda-353f-472f-97df-2a6923daacbf",
   "metadata": {
    "tags": []
   },
   "outputs": [],
   "source": [
    "model_path = os.path.join(cwd,'model')\n",
    "make_dir(model_path)"
   ]
  },
  {
   "cell_type": "code",
   "execution_count": 18,
   "id": "0e458aed-af50-4ae1-b149-bf7648f6293e",
   "metadata": {
    "tags": []
   },
   "outputs": [],
   "source": [
    "# Save the entire model to a HDF5 file.\n",
    "# The '.h5' extension indicates that the model should be saved to HDF5.\n",
    "model_mse.save(os.path.join(model_path,'CNN_model_mse.h5'))"
   ]
  },
  {
   "cell_type": "code",
   "execution_count": 19,
   "id": "5ddaa671-c813-44cb-b5a8-6396100dc1cf",
   "metadata": {
    "tags": []
   },
   "outputs": [],
   "source": [
    "# reload the saved model\n",
    "model_mse = load_model(os.path.join(model_path,'CNN_model_mse.h5'))"
   ]
  },
  {
   "cell_type": "code",
   "execution_count": null,
   "id": "45400f01-6d41-46a0-a051-e40873c28c3d",
   "metadata": {},
   "outputs": [],
   "source": [
    "# do sum predictions or sumn later"
   ]
  },
  {
   "cell_type": "code",
   "execution_count": 14,
   "id": "8fc447a6-107b-4252-b7e4-e52ec2e77c89",
   "metadata": {
    "tags": []
   },
   "outputs": [],
   "source": [
    "in_features=[]\n",
    "for input_feature in input_features:\n",
    "    in_features.append(np.load('data/%s.npy' % input_feature))\n",
    "bro = np.stack(in_features,axis=1)"
   ]
  },
  {
   "cell_type": "code",
   "execution_count": 15,
   "id": "87bb3715-483b-42ef-9b19-ba689ea246e2",
   "metadata": {
    "tags": []
   },
   "outputs": [
    {
     "data": {
      "text/plain": [
       "(10152, 9, 40, 40)"
      ]
     },
     "execution_count": 15,
     "metadata": {},
     "output_type": "execute_result"
    }
   ],
   "source": [
    "bro.shape"
   ]
  },
  {
   "cell_type": "code",
   "execution_count": 41,
   "id": "cebab59e-7147-4d54-a173-6740789dc36a",
   "metadata": {
    "tags": []
   },
   "outputs": [
    {
     "name": "stdout",
     "output_type": "stream",
     "text": [
      "Amount of indices in training data:  (8122,)\n",
      "Amount of indices in testing data:  (2030,)\n"
     ]
    }
   ],
   "source": [
    "# Emulating what abigail has done with splitting training and testing\n",
    "\n",
    "# takes all of the time tick indices, shuffles them randomly.\n",
    "time_ind = bro.shape[0]\n",
    "rand_ind = np.arange(time_ind)\n",
    "rand_seed = 123\n",
    "random.Random(rand_seed).shuffle(rand_ind)\n",
    "# rand_ind is [0, 846 or whatever is the time tick length] but shuffled.\n",
    "\n",
    "# take 80% for training, 20% for testing\n",
    "train_split = 0.8\n",
    "train_ind, test_ind = rand_ind[:round(train_split*time_ind)], rand_ind[round((train_split)*time_ind):]\n",
    "print(\"Amount of indices in training data: \", train_ind.shape)\n",
    "print(\"Amount of indices in testing data: \", test_ind.shape)\n",
    "\n",
    "# sort back into order\n",
    "sorted_train_ind = np.sort(train_ind)\n",
    "\n",
    "\n",
    "# So, what we're seeing is she's just taking 80% of the dataset to use as training data.\n",
    "# Take 80% totally randomly. 80% of the time ticks are set as training.\n",
    "# 20% of the time ticks are set to be testing.\n",
    "# Every one of the 9 input variables, and the 1 output variable share the same time series ticks.\n",
    "# so it's gonna be 80% of the input and output = train, and 20% of the input and output = test."
   ]
  }
 ],
 "metadata": {
  "kernelspec": {
   "display_name": "Python 3 (ipykernel)",
   "language": "python",
   "name": "python3"
  },
  "language_info": {
   "codemirror_mode": {
    "name": "ipython",
    "version": 3
   },
   "file_extension": ".py",
   "mimetype": "text/x-python",
   "name": "python",
   "nbconvert_exporter": "python",
   "pygments_lexer": "ipython3",
   "version": "3.10.12"
  }
 },
 "nbformat": 4,
 "nbformat_minor": 5
}
